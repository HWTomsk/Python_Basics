








<!DOCTYPE html>
<html lang="en">

<head>
  <meta charset="utf-8">
  <title>Jupyter Notebook Viewer</title>
  <meta name="viewport" content="width=device-width, initial-scale=1.0">
  <meta name="description" content="">
  <meta name="author" content="">
  
  <meta name="robots" content="noindex,nofollow">
  

  <!--NEW RELIC Start Perf Measurement-->
  
  <!--NREND-->

  <!-- Le styles -->
  <script src="/cdn-cgi/apps/head/MuIIl4I_IVFkxldaVu1mdWee9as.js"></script><link href="/static/build/styles.css?v=af7ff69ae1abb8954a21dbb2241d4e24" rel="stylesheet">

  <!-- Le HTML5 shim, for IE6-8 support of HTML5 elements -->
  <!--[if lt IE 9]>
    <script src="http://html5shim.googlecode.com/svn/trunk/html5.js"></script>
  <![endif]-->

  <!-- Le fav and touch icons -->
  <link rel="shortcut icon" href="/static/ico/ipynb_icon_16x16.png">
  <link rel="apple-touch-icon-precomposed" sizes="144x144"
        href="/static/ico/apple-touch-icon-144-precomposed.png?v=5a3c9ede93e2a8b8ea9e3f8f3da1a905">
  <link rel="apple-touch-icon-precomposed" sizes="114x114"
        href="/static/ico/apple-touch-icon-114-precomposed.png?v=45d86fc8f24dc00638035e1dd7a6d898">
  <link rel="apple-touch-icon-precomposed" sizes="72x72"
        href="/static/ico/apple-touch-icon-72-precomposed.png?v=540b5eb0f3cfd25f1439d1c9bd30e15f">
  <link rel="apple-touch-icon-precomposed"
        href="/static/ico/apple-touch-icon-57-precomposed.png?v=225f0590e187e1458625654f10a28f56">
  
  

  

  
  <meta name="twitter:card" content="summary">
  <meta name="twitter:title" content="Notebook on nbviewer">
  <meta name="twitter:description" content="Check out this Jupyter notebook!">

  
  <meta name="twitter:domain" content="nbviewer.ipython.org">
  <meta name="twitter:image:src" content="http://ipython.org/ipython-doc/dev/_images/ipynb_icon_128x128.png">

  
    <link href="/static/build/notebook.css?v=70404d2166a8ab8949e8e1cdff07b91f" rel="stylesheet">
  

  

  
    <script src="https://cdnjs.cloudflare.com/ajax/libs/mathjax/2.7.1/MathJax.js?config=TeX-AMS_HTML" type="text/javascript">
    </script>
    <script type="text/javascript">
      init_mathjax = function() {
        if (window.MathJax) {
          // MathJax loaded
          MathJax.Hub.Config({
            TeX: {
              equationNumbers: {
                autoNumber: "AMS",
                useLabelIds: true
              }
            },
            tex2jax: {
              inlineMath: [ ['$','$'], ["\\(","\\)"] ],
              displayMath: [ ['$$','$$'], ["\\[","\\]"] ],
              processEscapes: true,
              processEnvironments: true
            },
            displayAlign: 'center',
            "HTML-CSS": {
              styles: {'.MathJax_Display': {"margin": 0}},
              linebreaks: { automatic: true }
            }
          });
          MathJax.Hub.Queue(["Typeset", MathJax.Hub]);
        }
      }
      init_mathjax();
    </script>
  

  
    <script>
      (function() {
        function addWidgetsRenderer() {
          var mimeElement = document.querySelector('script[type="application/vnd.jupyter.widget-view+json"]');
          var scriptElement = document.createElement('script');
          var widgetRendererSrc = 'https://unpkg.com/@jupyter-widgets/html-manager@*/dist/embed-amd.js';
          var widgetState;

          try {
            widgetState = mimeElement && JSON.parse(mimeElement.innerHTML);

            if (widgetState && (widgetState.version_major < 2 || !widgetState.version_major)) {
              widgetRendererSrc = 'https://unpkg.com/jupyter-js-widgets@*/dist/embed.js';
            }
          } catch(e) {}

          scriptElement.src = widgetRendererSrc;
          document.body.appendChild(scriptElement);
        }

        document.addEventListener('DOMContentLoaded', addWidgetsRenderer);
      }());
    </script>
  

</head>

<body class="nbviewer">

  <!-- These are loaded at the top of the body so they are available to
       notebook cells when they are loaded below. -->
  <script src="/static/components/jquery/dist/jquery.min.js?v=a09e13ee94d51c524b7e2a728c7d4039"></script>
  <script src="/static/components/requirejs/require.js?v=6da8be361b9ee26c5e721e76c6d4afce"></script>
  <script src="/static/components/moment/min/moment.min.js?v=89f87298ad94aa1e6b92f42eb66da043"></script>
<!-- Navbar
================================================== -->
  <nav id="menubar" class="navbar navbar-default navbar-fixed-top" data-spy="affix">
    <div class="container">
      <div class="navbar-header">
        <button type="button" class="navbar-toggle collapsed" data-toggle="collapse" data-target=".navbar-collapse">
          <span class="sr-only">Toggle navigation</span>
          <i class="fa fa-bars"></i>
        </button>
        <a class="navbar-brand" href="/">
          <img src="/static/img/nav_logo.svg?v=479cefe8d932fb14a67b93911b97d70f" width="159"/>
        </a>
      </div>

      <div class="collapse navbar-collapse">
        <ul class="nav navbar-nav navbar-right">
          <li>
            <a class="active" href="http://jupyter.org">JUPYTER</a>
          </li>
          <li>
    <a href="/faq" title="FAQ" >
      
        <span>FAQ</span>
      
    </a>
  </li>

          
  
    
      
        <li>
    <a href="/format/script/github/pananton13/python_course/blob/master/04_Data_Types.ipynb" title="View as Code" >
      <span class="fa fa-code fa-2x menu-icon"></span>
      <span class="menu-text">View as Code</span>
    </a>
  </li>
      
    
  
    
  

  
    <li>
    <a href="#" title="Python 3 Kernel" >
      <span class="fa fa-server fa-2x menu-icon"></span>
      <span class="menu-text">Python 3 Kernel</span>
    </a>
  </li>
  

  
    <li>
    <a href="https://github.com/pananton13/python_course/blob/master/04_Data_Types.ipynb" title="View on GitHub" >
      <span class="fa fa-github fa-2x menu-icon"></span>
      <span class="menu-text">View on GitHub</span>
    </a>
  </li>
  

  <li>
    <a href="https://raw.githubusercontent.com/pananton13/python_course/master/04_Data_Types.ipynb" title="Download Notebook" download>
      <span class="fa fa-download fa-2x menu-icon"></span>
      <span class="menu-text">Download Notebook</span>
    </a>
  </li>

        </ul>
      </div><!-- /.navbar-collapse -->
      
      
    </div>
  </nav>

  <div class="container container-main">
    
  
  <ol class="breadcrumb">
    
      <li>
        <a href="/github/pananton13/python_course/tree/master">python_course</a>
      </li>
    
      <li>
        <a href="/github/pananton13/python_course/tree/master/04_Data_Types.ipynb">04_Data_Types.ipynb</a>
      </li>
    
  </ol>
  
  <div id="notebook">
    <div id="notebook-container">
      
<div class="cell border-box-sizing text_cell rendered"><div class="prompt input_prompt">
</div>
<div class="inner_cell">
<div class="text_cell_render border-box-sizing rendered_html">
<h1 id="&#1058;&#1080;&#1087;&#1099;-&#1076;&#1072;&#1085;&#1085;&#1099;&#1093;">&#1058;&#1080;&#1087;&#1099; &#1076;&#1072;&#1085;&#1085;&#1099;&#1093;<a class="anchor-link" href="#&#1058;&#1080;&#1087;&#1099;-&#1076;&#1072;&#1085;&#1085;&#1099;&#1093;">&#182;</a></h1>
</div>
</div>
</div>
<div class="cell border-box-sizing text_cell rendered"><div class="prompt input_prompt">
</div>
<div class="inner_cell">
<div class="text_cell_render border-box-sizing rendered_html">
<p>В этой лекции будут рассмотрены основные понятия языка программирования Python: переменные и типы данных. Лекция содержит большое количество теоретического материала, необходимого для дальнейшего изучения Python. Без понимания рассматриваемых в данной лекции концепций дальнейшее прохождение курса будет затруднено, поэтому ей стоит уделить максимум внимания.</p>

</div>
</div>
</div>
<div class="cell border-box-sizing text_cell rendered"><div class="prompt input_prompt">
</div>
<div class="inner_cell">
<div class="text_cell_render border-box-sizing rendered_html">
<h2 id="&#1057;&#1086;&#1076;&#1077;&#1088;&#1078;&#1072;&#1085;&#1080;&#1077;-&#1083;&#1077;&#1082;&#1094;&#1080;&#1080;">&#1057;&#1086;&#1076;&#1077;&#1088;&#1078;&#1072;&#1085;&#1080;&#1077; &#1083;&#1077;&#1082;&#1094;&#1080;&#1080;<a class="anchor-link" href="#&#1057;&#1086;&#1076;&#1077;&#1088;&#1078;&#1072;&#1085;&#1080;&#1077;-&#1083;&#1077;&#1082;&#1094;&#1080;&#1080;">&#182;</a></h2>
</div>
</div>
</div>
<div class="cell border-box-sizing text_cell rendered"><div class="prompt input_prompt">
</div>
<div class="inner_cell">
<div class="text_cell_render border-box-sizing rendered_html">
<ul>
<li><a href="#Переменные">Переменные</a><ul>
<li><a href="#Допустимые-идентификаторы">Допустимые идентификаторы</a></li>
</ul>
</li>
<li><a href="#Типы-данных">Типы данных</a><ul>
<li><a href="#Целочисленные-типы">Целочисленные типы</a></li>
<li><a href="#Типы-с-плавающей-точкой">Типы с плавающей точкой</a></li>
<li><a href="#Строки">Строки</a></li>
</ul>
</li>
<li><a href="#Ссылки">Ссылки</a></li>
<li><a href="#Изменяемость-типов-данных">Изменяемость типов данных</a></li>
<li><a href="#Вопросы-для-самоконтроля">Вопросы для самоконтроля</a></li>
<li><a href="#Задание">Задание</a></li>
</ul>

</div>
</div>
</div>
<div class="cell border-box-sizing text_cell rendered"><div class="prompt input_prompt">
</div>
<div class="inner_cell">
<div class="text_cell_render border-box-sizing rendered_html">
<h2 id="&#1055;&#1077;&#1088;&#1077;&#1084;&#1077;&#1085;&#1085;&#1099;&#1077;">&#1055;&#1077;&#1088;&#1077;&#1084;&#1077;&#1085;&#1085;&#1099;&#1077;<a class="anchor-link" href="#&#1055;&#1077;&#1088;&#1077;&#1084;&#1077;&#1085;&#1085;&#1099;&#1077;">&#182;</a></h2>
</div>
</div>
</div>
<div class="cell border-box-sizing text_cell rendered"><div class="prompt input_prompt">
</div>
<div class="inner_cell">
<div class="text_cell_render border-box-sizing rendered_html">
<p>Все данные, к которым обращается программа, хранятся в оперативной памяти компьютера, при этом каждый байт имеет свой <strong>адрес</strong> - некоторое число, уникальным образом идентифицирующее его и позволяющее CPU его найти, когда потребуется прочитать или записать значение. Например, в 64-битной операционной системе для адресации используется 64-битное число, как правило записываемое в <a href="https://ru.wikipedia.org/wiki/%D0%A8%D0%B5%D1%81%D1%82%D0%BD%D0%B0%D0%B4%D1%86%D0%B0%D1%82%D0%B5%D1%80%D0%B8%D1%87%D0%BD%D0%B0%D1%8F_%D1%81%D0%B8%D1%81%D1%82%D0%B5%D0%BC%D0%B0_%D1%81%D1%87%D0%B8%D1%81%D0%BB%D0%B5%D0%BD%D0%B8%D1%8F">шестнадцатеричной системе счисления</a> (вот так может выглядеть адрес одного байта: <em>37A15F8037099910</em>). В низкоуровневых языках программирования разработчику часто приходится оперировать подобными адресами, что требует хорошего знания устройства оперативной памяти и принципов ее работы. Получающаяся в результате программа очень сложна для понимания - даже подготовленному специалисту требуется время, чтобы разобраться в ней.</p>

</div>
</div>
</div>
<div class="cell border-box-sizing text_cell rendered"><div class="prompt input_prompt">
</div>
<div class="inner_cell">
<div class="text_cell_render border-box-sizing rendered_html">
<p>В высокоуровневых языках вроде Python вместо непосредственно адресов используются <strong>переменные</strong>, представляющие собой <em>именованные</em> области памяти. Как следует из этого определения, переменная задает соответствие между некоторым именем, называемым также <strong>идентификатором</strong>, и участком памяти. Это позволяет в дальнейшем для доступа к памяти использовать вместо малопонятных числовых адресов их текстовые идентификаторы.</p>

</div>
</div>
</div>
<div class="cell border-box-sizing text_cell rendered"><div class="prompt input_prompt">
</div>
<div class="inner_cell">
<div class="text_cell_render border-box-sizing rendered_html">
<p>Переменные в языке Python создаются (по другому еще говорят <em>определяются</em>) с помощью инструкции присваивания <code>=</code>. Ниже представлена программа, в которой создаются две переменные и вычисляется их сумма.</p>

</div>
</div>
</div>
<div class="cell border-box-sizing code_cell rendered">
<div class="input">
<div class="prompt input_prompt">In&nbsp;[1]:</div>
<div class="inner_cell">
    <div class="input_area">
<div class=" highlight hl-ipython3"><pre><span></span><span class="n">a</span> <span class="o">=</span> <span class="mi">1</span>
<span class="n">b</span> <span class="o">=</span> <span class="mi">2</span>
<span class="n">a</span> <span class="o">+</span> <span class="n">b</span>
</pre></div>

</div>
</div>
</div>

<div class="output_wrapper">
<div class="output">


<div class="output_area">

<div class="prompt output_prompt">Out[1]:</div>




<div class="output_text output_subarea output_execute_result">
<pre>3</pre>
</div>

</div>

</div>
</div>

</div>
<div class="cell border-box-sizing text_cell rendered"><div class="prompt input_prompt">
</div>
<div class="inner_cell">
<div class="text_cell_render border-box-sizing rendered_html">
<p>Рассмотрим эту программу подробно. В первых двух строчках нашего примера мы выделяем где-то в памяти (нам совершенно не важно, где именно) две области для хранения чисел 1 и 2, а затем связываем адреса этих областей с идентификаторами <code>a</code> и <code>b</code>. При выполнении операции <code>+</code>, интерпретатор Python в первую очередь определяет, какие адреса связаны с переменными, входящими в выражение, затем считывает числа, хранящиеся по данным адресам, и наконец выполняет сложение.</p>

</div>
</div>
</div>
<div class="cell border-box-sizing text_cell rendered"><div class="prompt input_prompt">
</div>
<div class="inner_cell">
<div class="text_cell_render border-box-sizing rendered_html">
<p>Важно уяснить для себя, что в Python знак <code>=</code> используется для создания, инициализации и изменения переменных, а не как операция определения равенства двух значений. Когда мы пишем <code>a = 1</code>, мы даем команду интерпретатору не сравнить значение <code>a</code> с 1, а выделить участок памяти, поместить в него число 1 и связать его с именем "a".</p>

</div>
</div>
</div>
<div class="cell border-box-sizing text_cell rendered"><div class="prompt input_prompt">
</div>
<div class="inner_cell">
<div class="text_cell_render border-box-sizing rendered_html">
<p>Справа от знака <code>=</code> при создании переменной может находиться:</p>

</div>
</div>
</div>
<div class="cell border-box-sizing text_cell rendered"><div class="prompt input_prompt">
</div>
<div class="inner_cell">
<div class="text_cell_render border-box-sizing rendered_html">
<ol>
<li><strong>литерал</strong> - константа, включаемая непосредственно в код программы (в примере выше литералами являются числа 1 и 2)</li>
<li>другая, созданная ранее переменная</li>
<li>любое выражение, содержащее комбинацию арифметических и иных операций, литералов и уже созданных переменных</li>
</ol>

</div>
</div>
</div>
<div class="cell border-box-sizing text_cell rendered"><div class="prompt input_prompt">
</div>
<div class="inner_cell">
<div class="text_cell_render border-box-sizing rendered_html">
<p>С учетом вышесказанного, рассмотрим чуть более сложный пример (обратите внимание, что мы выводим значения переменных, просто перечисляя их через запятую):</p>

</div>
</div>
</div>
<div class="cell border-box-sizing code_cell rendered">
<div class="input">
<div class="prompt input_prompt">In&nbsp;[2]:</div>
<div class="inner_cell">
    <div class="input_area">
<div class=" highlight hl-ipython3"><pre><span></span><span class="n">a</span> <span class="o">=</span> <span class="mi">10</span>
<span class="n">b</span> <span class="o">=</span> <span class="n">a</span>
<span class="n">c</span> <span class="o">=</span> <span class="n">b</span> <span class="o">+</span> <span class="mi">1</span>
<span class="n">d</span> <span class="o">=</span> <span class="n">a</span> <span class="o">+</span> <span class="n">b</span> <span class="o">+</span> <span class="n">c</span>
<span class="n">a</span><span class="p">,</span> <span class="n">b</span><span class="p">,</span> <span class="n">c</span><span class="p">,</span> <span class="n">d</span>
</pre></div>

</div>
</div>
</div>

<div class="output_wrapper">
<div class="output">


<div class="output_area">

<div class="prompt output_prompt">Out[2]:</div>




<div class="output_text output_subarea output_execute_result">
<pre>(10, 10, 11, 31)</pre>
</div>

</div>

</div>
</div>

</div>
<div class="cell border-box-sizing text_cell rendered"><div class="prompt input_prompt">
</div>
<div class="inner_cell">
<div class="text_cell_render border-box-sizing rendered_html">
<p>Если вы попытаетесь обратиться к переменной, которая не была определена ранее, интерпретатор сгенерирует исключение <code>NameError</code> и выведет соответствующее сообщение об ошибке:</p>

</div>
</div>
</div>
<div class="cell border-box-sizing code_cell rendered">
<div class="input">
<div class="prompt input_prompt">In&nbsp;[3]:</div>
<div class="inner_cell">
    <div class="input_area">
<div class=" highlight hl-ipython3"><pre><span></span><span class="n">x</span> <span class="o">=</span> <span class="mi">10</span>
<span class="n">x</span> <span class="o">+</span> <span class="n">y</span>
</pre></div>

</div>
</div>
</div>

<div class="output_wrapper">
<div class="output">


<div class="output_area">

<div class="prompt"></div>


<div class="output_subarea output_text output_error">
<pre><span class="ansi-red-intense-fg ansi-bold">---------------------------------------------------------------------------</span>
<span class="ansi-red-intense-fg ansi-bold">NameError</span>                                 Traceback (most recent call last)
<span class="ansi-green-intense-fg ansi-bold">&lt;ipython-input-3-ec3418874d45&gt;</span> in <span class="ansi-cyan-fg">&lt;module&gt;</span><span class="ansi-blue-intense-fg ansi-bold">()</span>
<span class="ansi-green-fg">      1</span> x <span class="ansi-yellow-intense-fg ansi-bold">=</span> <span class="ansi-cyan-intense-fg ansi-bold">10</span>
<span class="ansi-green-intense-fg ansi-bold">----&gt; 2</span><span class="ansi-yellow-intense-fg ansi-bold"> </span>x <span class="ansi-yellow-intense-fg ansi-bold">+</span> y

<span class="ansi-red-intense-fg ansi-bold">NameError</span>: name &#39;y&#39; is not defined</pre>
</div>
</div>

</div>
</div>

</div>
<div class="cell border-box-sizing text_cell rendered"><div class="prompt input_prompt">
</div>
<div class="inner_cell">
<div class="text_cell_render border-box-sizing rendered_html">
<h3 id="&#1044;&#1086;&#1087;&#1091;&#1089;&#1090;&#1080;&#1084;&#1099;&#1077;-&#1080;&#1076;&#1077;&#1085;&#1090;&#1080;&#1092;&#1080;&#1082;&#1072;&#1090;&#1086;&#1088;&#1099;">&#1044;&#1086;&#1087;&#1091;&#1089;&#1090;&#1080;&#1084;&#1099;&#1077; &#1080;&#1076;&#1077;&#1085;&#1090;&#1080;&#1092;&#1080;&#1082;&#1072;&#1090;&#1086;&#1088;&#1099;<a class="anchor-link" href="#&#1044;&#1086;&#1087;&#1091;&#1089;&#1090;&#1080;&#1084;&#1099;&#1077;-&#1080;&#1076;&#1077;&#1085;&#1090;&#1080;&#1092;&#1080;&#1082;&#1072;&#1090;&#1086;&#1088;&#1099;">&#182;</a></h3>
</div>
</div>
</div>
<div class="cell border-box-sizing text_cell rendered"><div class="prompt input_prompt">
</div>
<div class="inner_cell">
<div class="text_cell_render border-box-sizing rendered_html">
<p>Не всякая последовательность символов является допустимым идентификатором, который может использоваться в качестве имени переменной в языке Python. По правилам, корректный идентификатор должен начинаться с буквы или символа подчеркивания "_", при этом буквы не обязаны быть из английского алфавита. Далее может идти последовательность букв, цифр и знаков подчеркивания произвольной длины. Примерами допустимых идентификаторов являются <code>_variable_01</code> и <code>моя_переменная</code>, а недопустимых - <code>1_variable</code> и <code>a^b</code>. Имена переменных чувствительны к регистру, то есть <code>var</code>, <code>Var</code> и <code>VAR</code> являются тремя разными идентификаторами.</p>

</div>
</div>
</div>
<div class="cell border-box-sizing text_cell rendered"><div class="prompt input_prompt">
</div>
<div class="inner_cell">
<div class="text_cell_render border-box-sizing rendered_html">
<p>Существует еще одно ограничение на имена переменных: они не должны совпадать с каким-либо из ключевых слов, зарезервированных для обозначения инструкций языка программирования Python. Полный список таких слов представлен ниже.</p>

</div>
</div>
</div>
<div class="cell border-box-sizing text_cell rendered"><div class="prompt input_prompt">
</div>
<div class="inner_cell">
<div class="text_cell_render border-box-sizing rendered_html">

<pre><code>and        continue     except      global     lambda       pass       while
as         def          False       if         None         raise      with
assert     del          finally     import     nonlocal     return     yield
break      elif         for         in         not          True
class      else         from        is         or           try</code></pre>

</div>
</div>
</div>
<div class="cell border-box-sizing text_cell rendered"><div class="prompt input_prompt">
</div>
<div class="inner_cell">
<div class="text_cell_render border-box-sizing rendered_html">
<p>В заключение перечислим некоторые рекомендации относительно выбора имен переменных в языке программирования Python:</p>

</div>
</div>
</div>
<div class="cell border-box-sizing text_cell rendered"><div class="prompt input_prompt">
</div>
<div class="inner_cell">
<div class="text_cell_render border-box-sizing rendered_html">
<ul>
<li>Не используйте в качестве имен переменных идентификаторы встроенных атрибутов Python или имена очень похожие на них. В качестве примера одного из таких атрибутов можно привести исключение <code>NameError</code> - вы можете создать переменную с таким именем, однако этого делать не стоит. Разумеется, нужен некоторый опыт программирования на Python, чтобы знать, какие имена уже присутствуют в Python и не использовать их для своих переменных.</li>
<li>Не используйте имена, начинающиеся и заканчивающиеся двумя символами подчеркивания, например <code>__variable__</code>. Причина в том, что в Python существует много предопределенных системных переменных, названных по таком шаблону.</li>
<li>Никогда не используйте в качестве имени переменной русские слова или их транслитерацию - это считается плохим стилем программирования. Идентификаторы <code>моя_переменная</code> или <code>moya_peremennaya</code> - плохие!</li>
<li>Имя переменной должно быть по возможности кратким и в то же время отражать, что в ней содержится - это улучшает читабельность вашего исходного кода. Например, для переменной, в которой хранится средняя температура по больнице, хорошо подходят имена <code>average_temperature</code> и <code>avg_temp</code>, и совсем не подходит - <code>avegare_temperature_in_the_hospital</code> и <code>a</code> (мы в коротких примерах курса позволяем себе использовать однобуквенные переменные, но в реальном проекте их стоит избегать).</li>
</ul>

</div>
</div>
</div>
<div class="cell border-box-sizing text_cell rendered"><div class="prompt input_prompt">
</div>
<div class="inner_cell">
<div class="text_cell_render border-box-sizing rendered_html">
<h2 id="&#1058;&#1080;&#1087;&#1099;-&#1076;&#1072;&#1085;&#1085;&#1099;&#1093;">&#1058;&#1080;&#1087;&#1099; &#1076;&#1072;&#1085;&#1085;&#1099;&#1093;<a class="anchor-link" href="#&#1058;&#1080;&#1087;&#1099;-&#1076;&#1072;&#1085;&#1085;&#1099;&#1093;">&#182;</a></h2>
</div>
</div>
</div>
<div class="cell border-box-sizing text_cell rendered"><div class="prompt input_prompt">
</div>
<div class="inner_cell">
<div class="text_cell_render border-box-sizing rendered_html">
<p><strong>Тип данных</strong> - это характеристика любой переменной, определяющая набор допустимых значений этой переменной и операции, которые можно выполнять с ней. Когда программист указывает, какой тип данных имеет та или иная переменная, компилятор или интерпретатор получает возможность провести дополнительную оптимизацию кода (например, операция сложения целых чисел выполняется гораздо быстрее сложения действительных, поэтому если известно, что числа в выражении целые, можно использовать более быструю операцию без потери точности вычислений), а самое главное - он может проверить правильность программы, обнаруживая ситуации, когда в переменной или операции оказывается значение, не подходящее по типу.</p>

</div>
</div>
</div>
<div class="cell border-box-sizing text_cell rendered"><div class="prompt input_prompt">
</div>
<div class="inner_cell">
<div class="text_cell_render border-box-sizing rendered_html">
<p>В языке программирования Python используется неявная строгая динамическая типизация. Разберем, что означает эта формулировака:</p>

</div>
</div>
</div>
<div class="cell border-box-sizing text_cell rendered"><div class="prompt input_prompt">
</div>
<div class="inner_cell">
<div class="text_cell_render border-box-sizing rendered_html">
<ul>
<li><strong>неявная</strong> - говорит о том, что типы переменных в Python не указываются явно, а задаются интерпретатором на основании того, какое значение стоит в правой части инструкции присваивания <code>=</code>. В качестве примера языка программирования с явной типизацией можно привести C++, в котором при создании переменной нужно явно указывать ее тип: <code>int a = 1</code> (int является типом для хранения целых значений в C++)</li>
<li><strong>строгая</strong> - говорит о том, что интерпретатор Python внимательно следит, чтобы в одном выражении не использовались разные типы данных (за исключением типов, которые можно безопасно преобразовать к какому-то общему типу). На другом полюсе находятся языки вроде PHP, в которых используется слабая типизация и разрешаются выражения, содержащие переменные с совершенно разными типами.</li>
<li><strong>динамическая</strong> - говорит о том, что одна и та же переменная может иметь разный тип в течение выполнения программы, который определяется по последней операции присваивания <code>=</code> для данной переменной. В других языках программирования (например, Java) может использоваться статическая типизация, что означает, что тип не может быть изменен после того, как он назначен переменной.</li>
</ul>

</div>
</div>
</div>
<div class="cell border-box-sizing text_cell rendered"><div class="prompt input_prompt">
</div>
<div class="inner_cell">
<div class="text_cell_render border-box-sizing rendered_html">
<p>Поскольку язык Python является типизированным, любой литерал, переменная или целое выражение, состоящее из комбинации арифметических и иных операций, выполненных над ними, обладает своим типом.</p>

</div>
</div>
</div>
<div class="cell border-box-sizing text_cell rendered"><div class="prompt input_prompt">
</div>
<div class="inner_cell">
<div class="text_cell_render border-box-sizing rendered_html">
<h3 id="&#1062;&#1077;&#1083;&#1086;&#1095;&#1080;&#1089;&#1083;&#1077;&#1085;&#1085;&#1099;&#1077;-&#1090;&#1080;&#1087;&#1099;">&#1062;&#1077;&#1083;&#1086;&#1095;&#1080;&#1089;&#1083;&#1077;&#1085;&#1085;&#1099;&#1077; &#1090;&#1080;&#1087;&#1099;<a class="anchor-link" href="#&#1062;&#1077;&#1083;&#1086;&#1095;&#1080;&#1089;&#1083;&#1077;&#1085;&#1085;&#1099;&#1077;-&#1090;&#1080;&#1087;&#1099;">&#182;</a></h3>
</div>
</div>
</div>
<div class="cell border-box-sizing text_cell rendered"><div class="prompt input_prompt">
</div>
<div class="inner_cell">
<div class="text_cell_render border-box-sizing rendered_html">
<p>В языке Python существует два целочисленных типа:</p>

</div>
</div>
</div>
<div class="cell border-box-sizing text_cell rendered"><div class="prompt input_prompt">
</div>
<div class="inner_cell">
<div class="text_cell_render border-box-sizing rendered_html">
<ul>
<li><strong>int</strong> (от англ. <em>integer</em>) - целое число практически неограниченного размера (лишь бы хватило оперативной памяти для его хранения)</li>
<li><strong>bool</strong> (от англ. <em>boolean</em>) - логический (также называемый <a href="https://ru.wikipedia.org/wiki/%D0%9B%D0%BE%D0%B3%D0%B8%D1%87%D0%B5%D1%81%D0%BA%D0%B8%D0%B9_%D1%82%D0%B8%D0%BF">булевым</a>) тип, принимающий одно из двух возможных значение: истина (True) или ложь (False)</li>
</ul>

</div>
</div>
</div>
<div class="cell border-box-sizing text_cell rendered"><div class="prompt input_prompt">
</div>
<div class="inner_cell">
<div class="text_cell_render border-box-sizing rendered_html">
<p>Как уже упоминалось ранее, в языке Python тип переменной назначается самим интерпретатором в тот момент, когда вы ее создаете. При этом переменная получает тот же тип, что и выражение, которое находится справа от знака <code>=</code>.</p>

</div>
</div>
</div>
<div class="cell border-box-sizing text_cell rendered"><div class="prompt input_prompt">
</div>
<div class="inner_cell">
<div class="text_cell_render border-box-sizing rendered_html">
<p>Литералы, имеющие тип <code>int</code>, представляют собой целые числа записанные в десятичной, <a href="https://ru.wikipedia.org/wiki/%D0%94%D0%B2%D0%BE%D0%B8%D1%87%D0%BD%D0%B0%D1%8F_%D1%81%D0%B8%D1%81%D1%82%D0%B5%D0%BC%D0%B0_%D1%81%D1%87%D0%B8%D1%81%D0%BB%D0%B5%D0%BD%D0%B8%D1%8F">двоичной</a>, <a href="https://ru.wikipedia.org/wiki/%D0%92%D0%BE%D1%81%D1%8C%D0%BC%D0%B5%D1%80%D0%B8%D1%87%D0%BD%D0%B0%D1%8F_%D1%81%D0%B8%D1%81%D1%82%D0%B5%D0%BC%D0%B0_%D1%81%D1%87%D0%B8%D1%81%D0%BB%D0%B5%D0%BD%D0%B8%D1%8F">восьмеричной</a> или <a href="https://ru.wikipedia.org/wiki/%D0%A8%D0%B5%D1%81%D1%82%D0%BD%D0%B0%D0%B4%D1%86%D0%B0%D1%82%D0%B5%D1%80%D0%B8%D1%87%D0%BD%D0%B0%D1%8F_%D1%81%D0%B8%D1%81%D1%82%D0%B5%D0%BC%D0%B0_%D1%81%D1%87%D0%B8%D1%81%D0%BB%D0%B5%D0%BD%D0%B8%D1%8F">шестнадцатеричной</a> системе счисления. В примере ниже всем переменным присваивается одно и то же число 762, но записанное в разных системах счисления.</p>

</div>
</div>
</div>
<div class="cell border-box-sizing code_cell rendered">
<div class="input">
<div class="prompt input_prompt">In&nbsp;[4]:</div>
<div class="inner_cell">
    <div class="input_area">
<div class=" highlight hl-ipython3"><pre><span></span><span class="n">i1</span> <span class="o">=</span> <span class="mi">762</span>          <span class="c1"># десятичная система счисления</span>
<span class="n">i2</span> <span class="o">=</span> <span class="mb">0b1011111010</span> <span class="c1"># двоичная система счисления указывается с помощью префикса &quot;0b&quot; перед числом</span>
<span class="n">i3</span> <span class="o">=</span> <span class="mo">0o1372</span>       <span class="c1"># восьмеричная система счисления указывается с помощью префикса &quot;0o&quot; перед числом</span>
<span class="n">i4</span> <span class="o">=</span> <span class="mh">0x2FA</span>        <span class="c1"># шестнадцатеричная система счисления указывается с помощью префикса &quot;0x&quot; перед числом</span>

<span class="n">i1</span><span class="p">,</span> <span class="n">i2</span><span class="p">,</span> <span class="n">i3</span><span class="p">,</span> <span class="n">i4</span>
</pre></div>

</div>
</div>
</div>

<div class="output_wrapper">
<div class="output">


<div class="output_area">

<div class="prompt output_prompt">Out[4]:</div>




<div class="output_text output_subarea output_execute_result">
<pre>(762, 762, 762, 762)</pre>
</div>

</div>

</div>
</div>

</div>
<div class="cell border-box-sizing text_cell rendered"><div class="prompt input_prompt">
</div>
<div class="inner_cell">
<div class="text_cell_render border-box-sizing rendered_html">
<p>Литералов булевого типа, как можно было догадаться, всего два (никакие другие значения булевый тип не может принимать):</p>

</div>
</div>
</div>
<div class="cell border-box-sizing code_cell rendered">
<div class="input">
<div class="prompt input_prompt">In&nbsp;[5]:</div>
<div class="inner_cell">
    <div class="input_area">
<div class=" highlight hl-ipython3"><pre><span></span><span class="n">b1</span> <span class="o">=</span> <span class="kc">True</span>
<span class="n">b2</span> <span class="o">=</span> <span class="kc">False</span>

<span class="n">b1</span><span class="p">,</span> <span class="n">b2</span>
</pre></div>

</div>
</div>
</div>

<div class="output_wrapper">
<div class="output">


<div class="output_area">

<div class="prompt output_prompt">Out[5]:</div>




<div class="output_text output_subarea output_execute_result">
<pre>(True, False)</pre>
</div>

</div>

</div>
</div>

</div>
<div class="cell border-box-sizing text_cell rendered"><div class="prompt input_prompt">
</div>
<div class="inner_cell">
<div class="text_cell_render border-box-sizing rendered_html">
<p>В языке Python существует специальная функция <code>type</code>, с помощью которой можно узнать тип переменной или литерала. Чтобы сделать это, нужно <em>вызвать</em> функцию <code>type</code>: написать ее имя в исходном коде и указать в скобках переменную или литерал, чей тип нужно определить. Подробнее о функциях мы поговорим в одной и следующих лекций, а сейчас давайте просто убедимся, что переменная, созданная с помощью литерала определенного типа, получает тип этого литерала:</p>

</div>
</div>
</div>
<div class="cell border-box-sizing code_cell rendered">
<div class="input">
<div class="prompt input_prompt">In&nbsp;[6]:</div>
<div class="inner_cell">
    <div class="input_area">
<div class=" highlight hl-ipython3"><pre><span></span><span class="n">i1</span> <span class="o">=</span> <span class="mi">10</span>
<span class="n">b1</span> <span class="o">=</span> <span class="kc">True</span>

<span class="nb">type</span><span class="p">(</span><span class="n">i1</span><span class="p">),</span> <span class="nb">type</span><span class="p">(</span><span class="mi">10</span><span class="p">),</span> <span class="nb">type</span><span class="p">(</span><span class="n">b1</span><span class="p">),</span> <span class="nb">type</span><span class="p">(</span><span class="kc">True</span><span class="p">)</span>
</pre></div>

</div>
</div>
</div>

<div class="output_wrapper">
<div class="output">


<div class="output_area">

<div class="prompt output_prompt">Out[6]:</div>




<div class="output_text output_subarea output_execute_result">
<pre>(int, int, bool, bool)</pre>
</div>

</div>

</div>
</div>

</div>
<div class="cell border-box-sizing text_cell rendered"><div class="prompt input_prompt">
</div>
<div class="inner_cell">
<div class="text_cell_render border-box-sizing rendered_html">
<h3 id="&#1058;&#1080;&#1087;&#1099;-&#1089;-&#1087;&#1083;&#1072;&#1074;&#1072;&#1102;&#1097;&#1077;&#1081;-&#1090;&#1086;&#1095;&#1082;&#1086;&#1081;">&#1058;&#1080;&#1087;&#1099; &#1089; &#1087;&#1083;&#1072;&#1074;&#1072;&#1102;&#1097;&#1077;&#1081; &#1090;&#1086;&#1095;&#1082;&#1086;&#1081;<a class="anchor-link" href="#&#1058;&#1080;&#1087;&#1099;-&#1089;-&#1087;&#1083;&#1072;&#1074;&#1072;&#1102;&#1097;&#1077;&#1081;-&#1090;&#1086;&#1095;&#1082;&#1086;&#1081;">&#182;</a></h3>
</div>
</div>
</div>
<div class="cell border-box-sizing text_cell rendered"><div class="prompt input_prompt">
</div>
<div class="inner_cell">
<div class="text_cell_render border-box-sizing rendered_html">
<p>Числами с плавающей точкой называются обычные действительные числа, у которых после точки, разделяющей целую и дробную часть может стоять произвольное количество цифр. По причине того, что десятичная точка может находится в разных местах действительного числа, ее и назвали "плавающей". В противовес этому в некоторых языках программирования существует тип для чисел с фиксированной точкой, все значения которого имеют строго определенное количество знаков после десятичной точки. Такой тип может использоваться для хранения денежных сумм, потому что заранее известно, что в дробной части не нужно хранить более чем два знака (например, 100.53$).</p>

</div>
</div>
</div>
<div class="cell border-box-sizing text_cell rendered"><div class="prompt input_prompt">
</div>
<div class="inner_cell">
<div class="text_cell_render border-box-sizing rendered_html">
<p>Python предоставляет три типа для работы со значениями с плавающей точкой:</p>

</div>
</div>
</div>
<div class="cell border-box-sizing text_cell rendered"><div class="prompt input_prompt">
</div>
<div class="inner_cell">
<div class="text_cell_render border-box-sizing rendered_html">
<ul>
<li><strong>float</strong> (от англ. <em>floating</em>) - действительное число ограниченной точности</li>
<li><strong>complex</strong> - комплексное число ограниченной точности</li>
<li><strong>Decimal</strong> - действительное число произвольной точности</li>
</ul>

</div>
</div>
</div>
<div class="cell border-box-sizing text_cell rendered"><div class="prompt input_prompt">
</div>
<div class="inner_cell">
<div class="text_cell_render border-box-sizing rendered_html">
<p>Литералы с типом <code>float</code> записываются как числа с десятичной точкой или с помощью <a href="https://ru.wikipedia.org/wiki/%D0%AD%D0%BA%D1%81%D0%BF%D0%BE%D0%BD%D0%B5%D0%BD%D1%86%D0%B8%D0%B0%D0%BB%D1%8C%D0%BD%D0%B0%D1%8F_%D0%B7%D0%B0%D0%BF%D0%B8%D1%81%D1%8C">экспоненциальной формы</a>. Литералы комплексных чисел записываются как действительная и мнимая части, объединенные знаком <code>+</code> или <code>-</code>, а за мнимной частью следует буква j. При этом если действительная часть равна нулю, то ее можно не указывать вообще.</p>

</div>
</div>
</div>
<div class="cell border-box-sizing code_cell rendered">
<div class="input">
<div class="prompt input_prompt">In&nbsp;[7]:</div>
<div class="inner_cell">
    <div class="input_area">
<div class=" highlight hl-ipython3"><pre><span></span><span class="n">f1</span> <span class="o">=</span> <span class="mf">3.14</span>
<span class="n">f2</span> <span class="o">=</span> <span class="mf">3.28e-3</span>    <span class="c1"># экспоненциальная форма, символы &#39;e-3&#39; означают умножение числа слева от них на 10 в степени -3</span>
<span class="n">c1</span> <span class="o">=</span> <span class="mf">1.5</span> <span class="o">+</span> <span class="mf">2.5</span><span class="n">j</span>
<span class="n">c2</span> <span class="o">=</span> <span class="o">-</span><span class="mi">10</span><span class="n">j</span>

<span class="n">f1</span><span class="p">,</span> <span class="n">f2</span><span class="p">,</span> <span class="n">c1</span><span class="p">,</span> <span class="n">c2</span>
</pre></div>

</div>
</div>
</div>

<div class="output_wrapper">
<div class="output">


<div class="output_area">

<div class="prompt output_prompt">Out[7]:</div>




<div class="output_text output_subarea output_execute_result">
<pre>(3.14, 0.00328, (1.5+2.5j), (-0-10j))</pre>
</div>

</div>

</div>
</div>

</div>
<div class="cell border-box-sizing text_cell rendered"><div class="prompt input_prompt">
</div>
<div class="inner_cell">
<div class="text_cell_render border-box-sizing rendered_html">
<p>С помощью функции <code>type</code> мы можем убедиться в том, что переменные получили тот тип, который мы ожидали:</p>

</div>
</div>
</div>
<div class="cell border-box-sizing code_cell rendered">
<div class="input">
<div class="prompt input_prompt">In&nbsp;[8]:</div>
<div class="inner_cell">
    <div class="input_area">
<div class=" highlight hl-ipython3"><pre><span></span><span class="nb">type</span><span class="p">(</span><span class="n">f1</span><span class="p">),</span> <span class="nb">type</span><span class="p">(</span><span class="n">f2</span><span class="p">),</span> <span class="nb">type</span><span class="p">(</span><span class="n">c1</span><span class="p">),</span> <span class="nb">type</span><span class="p">(</span><span class="n">c2</span><span class="p">)</span>
</pre></div>

</div>
</div>
</div>

<div class="output_wrapper">
<div class="output">


<div class="output_area">

<div class="prompt output_prompt">Out[8]:</div>




<div class="output_text output_subarea output_execute_result">
<pre>(float, float, complex, complex)</pre>
</div>

</div>

</div>
</div>

</div>
<div class="cell border-box-sizing text_cell rendered"><div class="prompt input_prompt">
</div>
<div class="inner_cell">
<div class="text_cell_render border-box-sizing rendered_html">
<p>Тип данных <code>complex</code> удобно привести в качестве примера так называемого <strong>сложного типа</strong>, т.е. типа, имеющего некоторую внутреннюю структуру, к которой есть доступ у программиста (подробнее о сложных типах мы будем говорить в лекции, посвященной классам). Известно, что комплексное число состоит из действительной и мнимой части - вот и тип данных <code>complex</code> внури себя хранит отдельно действительную и мнимую части, представляя их с помощью типа <code>float</code>. Чтобы обратиться к внутренним атрибутам сложного типа используется операция <code>.</code>:</p>

</div>
</div>
</div>
<div class="cell border-box-sizing code_cell rendered">
<div class="input">
<div class="prompt input_prompt">In&nbsp;[9]:</div>
<div class="inner_cell">
    <div class="input_area">
<div class=" highlight hl-ipython3"><pre><span></span><span class="n">c</span> <span class="o">=</span> <span class="o">-</span><span class="mf">3.5</span> <span class="o">+</span> <span class="mi">1</span><span class="n">j</span>
<span class="n">c</span><span class="o">.</span><span class="n">real</span><span class="p">,</span> <span class="n">c</span><span class="o">.</span><span class="n">imag</span>
</pre></div>

</div>
</div>
</div>

<div class="output_wrapper">
<div class="output">


<div class="output_area">

<div class="prompt output_prompt">Out[9]:</div>




<div class="output_text output_subarea output_execute_result">
<pre>(-3.5, 1.0)</pre>
</div>

</div>

</div>
</div>

</div>
<div class="cell border-box-sizing text_cell rendered"><div class="prompt input_prompt">
</div>
<div class="inner_cell">
<div class="text_cell_render border-box-sizing rendered_html">
<p>При описании типов <code>float</code> и <code>complex</code> мы говорили о том, что они позволяют хранить значения лишь с <em>ограниченной</em> точностью, то есть при определенных операциях с ними значение, которое в итоге сохранится в переменной, может иметь некоторую погрешность. Поскольку действительная и мнимая часть типа <code>complex</code> имеют тип <code>float</code> (убедитесь в этом сами), то проблемы потери точности при операциях с типом <code>complex</code> являются логическим следствием проблем с типом <code>float</code>, поэтому в дальнейшем мы будем говорить только о нем.</p>

</div>
</div>
</div>
<div class="cell border-box-sizing text_cell rendered"><div class="prompt input_prompt">
</div>
<div class="inner_cell">
<div class="text_cell_render border-box-sizing rendered_html">
<p>Причина потери точности при работе с переменными с типом <code>float</code> кроется в его физическом представлении, описанном в стандарте <a href="https://ru.wikipedia.org/wiki/IEEE_754-2008">IEEE 754</a>, а также в специфике действительных чисел. Согласно стандарту, переменная с типом <code>float</code> имеет размер 64 бита или 8 байт. С помощью 64 бит можно сохранить не более $2^{64}$ различных значений, однако даже между 0 и 0.1 бесконечное количество действительных чисел. Поэтому в стандарте определен специальный механизм отображения бесконечного количества действительных чисел на конечное множество возможных значений типа <code>float</code>. При этом отображении каждому возможному значению типа <code>float</code> ставится в соответствие  не одно действительное число, а сразу целый интервал. Таким образом, все действительные числа из этого интервала отображаются в одно и то же значение типа <code>float</code>. Поскольку интервал берется очень маленький, это оказывает незначительную погрешность на результаты вычислений (макимально возможная ошибка составляет примерно $2*10^{-16}$). Однако главная проблема, возникающая при отображении, заключается в том, что одни действительные числа имеют точное представление в переменных типа <code>float</code>, а другие нет. Чтобы увидеть это, нам потребуется функция <code>print</code>, рассматриваемая позже, с помощью которой мы можем показать все знаки числа с типом <code>float</code> (при обычном способе вывода интерпретатор отбрасывает младшие знаки после десятичной точки, чтобы вывод смотрелся аккуратнее и более сжато).</p>

</div>
</div>
</div>
<div class="cell border-box-sizing code_cell rendered">
<div class="input">
<div class="prompt input_prompt">In&nbsp;[10]:</div>
<div class="inner_cell">
    <div class="input_area">
<div class=" highlight hl-ipython3"><pre><span></span><span class="n">a</span> <span class="o">=</span> <span class="mf">0.5</span>
<span class="n">b</span> <span class="o">=</span> <span class="mf">0.1</span>

<span class="nb">print</span><span class="p">(</span><span class="s1">&#39;</span><span class="si">%.55f</span><span class="s1">&#39;</span> <span class="o">%</span> <span class="n">a</span><span class="p">)</span>
<span class="nb">print</span><span class="p">(</span><span class="s1">&#39;</span><span class="si">%.55f</span><span class="s1">&#39;</span> <span class="o">%</span> <span class="n">b</span><span class="p">)</span>
</pre></div>

</div>
</div>
</div>

<div class="output_wrapper">
<div class="output">


<div class="output_area">

<div class="prompt"></div>


<div class="output_subarea output_stream output_stdout output_text">
<pre>0.5000000000000000000000000000000000000000000000000000000
0.1000000000000000055511151231257827021181583404541015625
</pre>
</div>
</div>

</div>
</div>

</div>
<div class="cell border-box-sizing text_cell rendered"><div class="prompt input_prompt">
</div>
<div class="inner_cell">
<div class="text_cell_render border-box-sizing rendered_html">
<p>Заметьте, что число 0.5 представляется абсолютно точно, в то время, как число 0.1 содержит "мусор" в последних знаках. При выполнении вычислений эта ошибка накапливается, что может привести к неожиданным результам при сравнении переменных с типом <code>float</code>. В следующем примере мы используем операцию сравнения <code>==</code>, которая дает результат <code>True</code>, если значение слева равно значению справа и <code>False</code> в противном случае:</p>

</div>
</div>
</div>
<div class="cell border-box-sizing code_cell rendered">
<div class="input">
<div class="prompt input_prompt">In&nbsp;[11]:</div>
<div class="inner_cell">
    <div class="input_area">
<div class=" highlight hl-ipython3"><pre><span></span><span class="n">a</span> <span class="o">=</span> <span class="mf">0.1</span> <span class="o">+</span> <span class="mf">0.1</span>
<span class="n">b</span> <span class="o">=</span> <span class="mf">0.1</span> <span class="o">+</span> <span class="mf">0.1</span> <span class="o">+</span> <span class="mf">0.1</span>

<span class="n">a</span> <span class="o">==</span> <span class="mf">0.2</span><span class="p">,</span> <span class="n">b</span> <span class="o">==</span> <span class="mf">0.3</span>
</pre></div>

</div>
</div>
</div>

<div class="output_wrapper">
<div class="output">


<div class="output_area">

<div class="prompt output_prompt">Out[11]:</div>




<div class="output_text output_subarea output_execute_result">
<pre>(True, False)</pre>
</div>

</div>

</div>
</div>

</div>
<div class="cell border-box-sizing text_cell rendered"><div class="prompt input_prompt">
</div>
<div class="inner_cell">
<div class="text_cell_render border-box-sizing rendered_html">
<p>Как видите, результат первого сравнения тот, что и ожидался, а вот результат второго оказался неправильным из-за накопившейся ошибки. По этой причине сравнения переменных с типом <code>float</code> должны выполняться очень аккуратно, учитывая погрешность в их представлении (в стиле $\left|a-b\right|&lt;=\epsilon$, где $\epsilon$ - устраивающая погрешность).</p>

</div>
</div>
</div>
<div class="cell border-box-sizing text_cell rendered"><div class="prompt input_prompt">
</div>
<div class="inner_cell">
<div class="text_cell_render border-box-sizing rendered_html">
<p>Еще одна особенность, связанная с типом <code>float</code>, заключается в том, что допустимый диапазон значений для него ограничен интервалом от примерно $-1.79*10^{308}$ до $1.79*10^{308}$. Если попытаться присвоить переменной типа <code>float</code> число вне этого диапазона, то она станет равна специальному значению, трактуемому как $-\infty$ или $+\infty$ (<code>-inf</code> или <code>inf</code>).</p>

</div>
</div>
</div>
<div class="cell border-box-sizing code_cell rendered">
<div class="input">
<div class="prompt input_prompt">In&nbsp;[12]:</div>
<div class="inner_cell">
    <div class="input_area">
<div class=" highlight hl-ipython3"><pre><span></span><span class="n">a</span> <span class="o">=</span> <span class="mf">1e10</span>
<span class="n">b</span> <span class="o">=</span> <span class="n">a</span> <span class="o">*</span> <span class="p">(</span><span class="o">-</span><span class="mf">1e300</span><span class="p">)</span>
<span class="n">c</span> <span class="o">=</span> <span class="n">a</span> <span class="o">*</span> <span class="mf">1e300</span>

<span class="n">b</span><span class="p">,</span> <span class="n">c</span>
</pre></div>

</div>
</div>
</div>

<div class="output_wrapper">
<div class="output">


<div class="output_area">

<div class="prompt output_prompt">Out[12]:</div>




<div class="output_text output_subarea output_execute_result">
<pre>(-inf, inf)</pre>
</div>

</div>

</div>
</div>

</div>
<div class="cell border-box-sizing text_cell rendered"><div class="prompt input_prompt">
</div>
<div class="inner_cell">
<div class="text_cell_render border-box-sizing rendered_html">
<p>От проблем типа <code>float</code> нас избавляет тип <code>Decimal</code>, чьи значения всегда представляются точно вплоть до определяемого программистом количества знаков после десятичной точки и кроме того не имеют ограничения на минимум или максимум. К сожалению, вычисления с типом <code>Decimal</code> выполняются гораздо медленнее, чем с типом <code>float</code>, поэтому использовать его нужно только в случаях, когда точность имеет критическое значение.</p>

</div>
</div>
</div>
<div class="cell border-box-sizing text_cell rendered"><div class="prompt input_prompt">
</div>
<div class="inner_cell">
<div class="text_cell_render border-box-sizing rendered_html">
<p>Все типы, которые мы рассматривали до этого, называются <strong>встроенными</strong>: они являются неотъемлемой частью языка Python и доступны для использования всегда. Тип <code>Decimal</code> не относится к встроенным, и чтобы использовать его, нам потребуется еще одна инструкция, которую мы будем рассматривать подробно в дальнейших лекциях. Эта инструкция называется <code>import</code> и нужна она для того, чтобы подключать к нашей программе <strong>модули</strong> - файлы, в которых содержатся различные дополнения для языка программирования Python. Описание типа <code>Decimal</code>находится в модуле, который называется <code>decimal</code>. Поскольку литералов с типом <code>Decimal</code> не существует, модуль предоставляет специальную функцию, которая преобразует строковое представление действительного числа (указываемое в одинарных или двойных кавычках) в значение типа <code>Decimal</code>. Обратите внимание, что обращение к функции из модуля имеет вид <em>имя_модуля</em>.<em>имя_функции</em>.</p>

</div>
</div>
</div>
<div class="cell border-box-sizing code_cell rendered">
<div class="input">
<div class="prompt input_prompt">In&nbsp;[13]:</div>
<div class="inner_cell">
    <div class="input_area">
<div class=" highlight hl-ipython3"><pre><span></span><span class="kn">import</span> <span class="nn">decimal</span>

<span class="n">a</span> <span class="o">=</span> <span class="n">decimal</span><span class="o">.</span><span class="n">Decimal</span><span class="p">(</span><span class="s1">&#39;3.141592&#39;</span><span class="p">)</span> <span class="c1"># используем функцию decimal.Decimal() для создания переменной с типом Decimal</span>
<span class="n">b</span> <span class="o">=</span> <span class="n">decimal</span><span class="o">.</span><span class="n">Decimal</span><span class="p">(</span><span class="s2">&quot;2.718281&quot;</span><span class="p">)</span>
<span class="n">a</span> <span class="o">+</span> <span class="n">b</span>
</pre></div>

</div>
</div>
</div>

<div class="output_wrapper">
<div class="output">


<div class="output_area">

<div class="prompt output_prompt">Out[13]:</div>




<div class="output_text output_subarea output_execute_result">
<pre>Decimal(&#39;5.859873&#39;)</pre>
</div>

</div>

</div>
</div>

</div>
<div class="cell border-box-sizing text_cell rendered"><div class="prompt input_prompt">
</div>
<div class="inner_cell">
<div class="text_cell_render border-box-sizing rendered_html">
<p>Убедимся теперь, что тип <code>Decimal</code> хранит значения без потери точности: используя его, перепишем рассмотренный ранее пример для типа <code>float</code>.</p>

</div>
</div>
</div>
<div class="cell border-box-sizing code_cell rendered">
<div class="input">
<div class="prompt input_prompt">In&nbsp;[14]:</div>
<div class="inner_cell">
    <div class="input_area">
<div class=" highlight hl-ipython3"><pre><span></span><span class="kn">import</span> <span class="nn">decimal</span>

<span class="n">a</span> <span class="o">=</span> <span class="n">decimal</span><span class="o">.</span><span class="n">Decimal</span><span class="p">(</span><span class="s1">&#39;0.1&#39;</span><span class="p">)</span> <span class="o">+</span> <span class="n">decimal</span><span class="o">.</span><span class="n">Decimal</span><span class="p">(</span><span class="s1">&#39;0.1&#39;</span><span class="p">)</span>
<span class="n">b</span> <span class="o">=</span> <span class="n">decimal</span><span class="o">.</span><span class="n">Decimal</span><span class="p">(</span><span class="s1">&#39;0.1&#39;</span><span class="p">)</span> <span class="o">+</span> <span class="n">decimal</span><span class="o">.</span><span class="n">Decimal</span><span class="p">(</span><span class="s1">&#39;0.1&#39;</span><span class="p">)</span> <span class="o">+</span> <span class="n">decimal</span><span class="o">.</span><span class="n">Decimal</span><span class="p">(</span><span class="s1">&#39;0.1&#39;</span><span class="p">)</span>

<span class="n">a</span> <span class="o">==</span> <span class="n">decimal</span><span class="o">.</span><span class="n">Decimal</span><span class="p">(</span><span class="s1">&#39;0.2&#39;</span><span class="p">),</span> <span class="n">b</span> <span class="o">==</span> <span class="n">decimal</span><span class="o">.</span><span class="n">Decimal</span><span class="p">(</span><span class="s1">&#39;0.3&#39;</span><span class="p">)</span>
</pre></div>

</div>
</div>
</div>

<div class="output_wrapper">
<div class="output">


<div class="output_area">

<div class="prompt output_prompt">Out[14]:</div>




<div class="output_text output_subarea output_execute_result">
<pre>(True, True)</pre>
</div>

</div>

</div>
</div>

</div>
<div class="cell border-box-sizing text_cell rendered"><div class="prompt input_prompt">
</div>
<div class="inner_cell">
<div class="text_cell_render border-box-sizing rendered_html">
<p>Как видите, оба сравнения дали ожидаемый результат.</p>

</div>
</div>
</div>
<div class="cell border-box-sizing text_cell rendered"><div class="prompt input_prompt">
</div>
<div class="inner_cell">
<div class="text_cell_render border-box-sizing rendered_html">
<p>Заметим, что переменные типа <code>Decimal</code> нельзя смешивать в арифметических варажениях с переменными типа <code>float</code>, иначе интерпретатор сгенерирует исключение <code>TypeError</code>. Это как раз пример того, как интерепретатор заботится о программисте с помощью системы типов. Он "видит" противоречие в выражении - одна переменная гарантирует точность представления действительного числа, хранящегося в ней, а другая нет. Следовательно, итоговый результат может содержать погрешность, поэтому интерпретатор решает на всякий случай перестать выполнять такую программу и выдать сообщение об ошибке. Программист в этом случае сразу увидит, что написал потенциально ошибочный код и исправит ситуацию (например, поменяет тип переменной <code>float</code> на тип <code>Decimal</code>).</p>

</div>
</div>
</div>
<div class="cell border-box-sizing code_cell rendered">
<div class="input">
<div class="prompt input_prompt">In&nbsp;[15]:</div>
<div class="inner_cell">
    <div class="input_area">
<div class=" highlight hl-ipython3"><pre><span></span><span class="kn">import</span> <span class="nn">decimal</span>

<span class="n">a</span> <span class="o">=</span> <span class="n">decimal</span><span class="o">.</span><span class="n">Decimal</span><span class="p">(</span><span class="s1">&#39;0.1&#39;</span><span class="p">)</span> <span class="c1"># a имеет тип Decimal</span>
<span class="n">b</span> <span class="o">=</span> <span class="mf">0.1</span>                    <span class="c1"># b имеет тип float</span>

<span class="n">a</span> <span class="o">+</span> <span class="n">b</span>                      <span class="c1"># значение типа Decimal складывается со значением типа float</span>
</pre></div>

</div>
</div>
</div>

<div class="output_wrapper">
<div class="output">


<div class="output_area">

<div class="prompt"></div>


<div class="output_subarea output_text output_error">
<pre><span class="ansi-red-intense-fg ansi-bold">---------------------------------------------------------------------------</span>
<span class="ansi-red-intense-fg ansi-bold">TypeError</span>                                 Traceback (most recent call last)
<span class="ansi-green-intense-fg ansi-bold">&lt;ipython-input-15-d018ee54750b&gt;</span> in <span class="ansi-cyan-fg">&lt;module&gt;</span><span class="ansi-blue-intense-fg ansi-bold">()</span>
<span class="ansi-green-fg">      4</span> b <span class="ansi-yellow-intense-fg ansi-bold">=</span> <span class="ansi-cyan-intense-fg ansi-bold">0.1</span>                    <span class="ansi-red-intense-fg ansi-bold"># b имеет тип float</span>
<span class="ansi-green-fg">      5</span> 
<span class="ansi-green-intense-fg ansi-bold">----&gt; 6</span><span class="ansi-yellow-intense-fg ansi-bold"> </span>a <span class="ansi-yellow-intense-fg ansi-bold">+</span> b                      <span class="ansi-red-intense-fg ansi-bold"># значение типа Decimal складывается со значением типа float</span>

<span class="ansi-red-intense-fg ansi-bold">TypeError</span>: unsupported operand type(s) for +: &#39;decimal.Decimal&#39; and &#39;float&#39;</pre>
</div>
</div>

</div>
</div>

</div>
<div class="cell border-box-sizing text_cell rendered"><div class="prompt input_prompt">
</div>
<div class="inner_cell">
<div class="text_cell_render border-box-sizing rendered_html">
<p>Важным свойством типа <code>Decimal</code> является то, что его можно дополнительно настроить, задав желаемую точность и метод округления в арфиметических выражениях с этим типом, а также некоторые другие параметры, которые в совокупности называются <strong>контекстом</strong> типа <code>Decimal</code>. Контекст представляет собой переменную сложного типа <code>Context</code>, получить которую можно с помощью функции <code>getcontext</code> из модуля <code>decimal</code>:</p>

</div>
</div>
</div>
<div class="cell border-box-sizing code_cell rendered">
<div class="input">
<div class="prompt input_prompt">In&nbsp;[16]:</div>
<div class="inner_cell">
    <div class="input_area">
<div class=" highlight hl-ipython3"><pre><span></span><span class="kn">import</span> <span class="nn">decimal</span>
<span class="n">context</span> <span class="o">=</span> <span class="n">decimal</span><span class="o">.</span><span class="n">getcontext</span><span class="p">()</span>
<span class="n">context</span>
</pre></div>

</div>
</div>
</div>

<div class="output_wrapper">
<div class="output">


<div class="output_area">

<div class="prompt output_prompt">Out[16]:</div>




<div class="output_text output_subarea output_execute_result">
<pre>Context(prec=28, rounding=ROUND_HALF_EVEN, Emin=-999999, Emax=999999, capitals=1, clamp=0, flags=[], traps=[InvalidOperation, DivisionByZero, Overflow])</pre>
</div>

</div>

</div>
</div>

</div>
<div class="cell border-box-sizing text_cell rendered"><div class="prompt input_prompt">
</div>
<div class="inner_cell">
<div class="text_cell_render border-box-sizing rendered_html">
<p>Внутренний атрибут <code>prec</code> контекста содержит количество точных знаков в числе с типом <code>Decimal</code>, причем учитываются как знаки до десятичной точки, так и после. Атрибиут <code>rounding</code> определяет используемый метод округления, если при выполнении арифметической операции с переменными типа <code>Decimal</code> результат не может быть представлен точно. Мы не будем подробно рассматривать все атрибуты контекста - информацию по ним можно найти в официальной документации Python, доступной в меню <em>Help</em>.</p>

</div>
</div>
</div>
<div class="cell border-box-sizing code_cell rendered">
<div class="input">
<div class="prompt input_prompt">In&nbsp;[17]:</div>
<div class="inner_cell">
    <div class="input_area">
<div class=" highlight hl-ipython3"><pre><span></span><span class="kn">import</span> <span class="nn">decimal</span>

<span class="n">a</span> <span class="o">=</span> <span class="n">decimal</span><span class="o">.</span><span class="n">Decimal</span><span class="p">(</span><span class="s1">&#39;1.723&#39;</span><span class="p">)</span>
<span class="n">b</span> <span class="o">=</span> <span class="n">decimal</span><span class="o">.</span><span class="n">Decimal</span><span class="p">(</span><span class="s1">&#39;1.051&#39;</span><span class="p">)</span>

<span class="n">decimal</span><span class="o">.</span><span class="n">getcontext</span><span class="p">()</span><span class="o">.</span><span class="n">prec</span> <span class="o">=</span> <span class="mi">4</span>
<span class="n">c</span> <span class="o">=</span> <span class="n">a</span> <span class="o">+</span> <span class="n">b</span>

<span class="n">decimal</span><span class="o">.</span><span class="n">getcontext</span><span class="p">()</span><span class="o">.</span><span class="n">prec</span> <span class="o">=</span> <span class="mi">2</span>
<span class="n">d</span> <span class="o">=</span> <span class="n">a</span> <span class="o">+</span> <span class="n">b</span>

<span class="n">c</span><span class="p">,</span> <span class="n">d</span>
</pre></div>

</div>
</div>
</div>

<div class="output_wrapper">
<div class="output">


<div class="output_area">

<div class="prompt output_prompt">Out[17]:</div>




<div class="output_text output_subarea output_execute_result">
<pre>(Decimal(&#39;2.774&#39;), Decimal(&#39;2.8&#39;))</pre>
</div>

</div>

</div>
</div>

</div>
<div class="cell border-box-sizing text_cell rendered"><div class="prompt input_prompt">
</div>
<div class="inner_cell">
<div class="text_cell_render border-box-sizing rendered_html">
<p>В примере выше можно заметить, как работает атрибут <code>prec</code>: при вычислении переменной <code>c</code> он равен 4, поэтому <code>c</code> получает абсолютно точное значение, а при вычислении <code>d</code> точность равна 2, поэтому вычисляются лишь первые два знака, причем для второго используется округление.</p>

</div>
</div>
</div>
<div class="cell border-box-sizing text_cell rendered"><div class="prompt input_prompt">
</div>
<div class="inner_cell">
<div class="text_cell_render border-box-sizing rendered_html">
<h3 id="&#1057;&#1090;&#1088;&#1086;&#1082;&#1080;">&#1057;&#1090;&#1088;&#1086;&#1082;&#1080;<a class="anchor-link" href="#&#1057;&#1090;&#1088;&#1086;&#1082;&#1080;">&#182;</a></h3>
</div>
</div>
</div>
<div class="cell border-box-sizing text_cell rendered"><div class="prompt input_prompt">
</div>
<div class="inner_cell">
<div class="text_cell_render border-box-sizing rendered_html">
<p>Для работы с текстовыми строками в языке программирования Python предназначен тип данных <code>str</code>. Литералы этого типа представляют собой текст, обрамленный с помощью одинарных или двойных кавычек (при этом важно, чтобы с обеих сторон использовался один и тот же символ кавычек):</p>

</div>
</div>
</div>
<div class="cell border-box-sizing code_cell rendered">
<div class="input">
<div class="prompt input_prompt">In&nbsp;[18]:</div>
<div class="inner_cell">
    <div class="input_area">
<div class=" highlight hl-ipython3"><pre><span></span><span class="n">s1</span> <span class="o">=</span> <span class="s1">&#39;hello&#39;</span>
<span class="n">s2</span> <span class="o">=</span> <span class="s2">&quot;world&quot;</span>
<span class="n">s1</span><span class="p">,</span> <span class="n">s2</span><span class="p">,</span> <span class="nb">type</span><span class="p">(</span><span class="n">s1</span><span class="p">),</span> <span class="nb">type</span><span class="p">(</span><span class="n">s2</span><span class="p">)</span>
</pre></div>

</div>
</div>
</div>

<div class="output_wrapper">
<div class="output">


<div class="output_area">

<div class="prompt output_prompt">Out[18]:</div>




<div class="output_text output_subarea output_execute_result">
<pre>(&#39;hello&#39;, &#39;world&#39;, str, str)</pre>
</div>

</div>

</div>
</div>

</div>
<div class="cell border-box-sizing text_cell rendered"><div class="prompt input_prompt">
</div>
<div class="inner_cell">
<div class="text_cell_render border-box-sizing rendered_html">
<p>Вы можете сами выбрать, какие именно кавычки использовать для литералов строкового типа в своих программах. Главное, чтобы вы не использовали их вперемешку. Авторам курса нравится, что для набора символа одинарной кавычки не нужно использовать клавишу Shift, поэтому в примерах используется он.</p>

</div>
</div>
</div>
<div class="cell border-box-sizing text_cell rendered"><div class="prompt input_prompt">
</div>
<div class="inner_cell">
<div class="text_cell_render border-box-sizing rendered_html">
<p>Если в строковом литерале есть символы одинарных или двойных кавычек, то для того, чтобы интерпретатор Python не принял их за кавычки, ограничивающие литерал, перед каждой из внутренних кавычек ставится символ "\" (это называется экранированием символа). Рассмотрим пример, где внутренний символ кавычки не экранируется:</p>

</div>
</div>
</div>
<div class="cell border-box-sizing code_cell rendered">
<div class="input">
<div class="prompt input_prompt">In&nbsp;[19]:</div>
<div class="inner_cell">
    <div class="input_area">
<div class=" highlight hl-ipython3"><pre><span></span><span class="n">s1</span> <span class="o">=</span> <span class="s1">&#39;my favourite book is &#39;</span><span class="n">Tom</span> <span class="n">Sawyer</span><span class="s1">&#39;&#39;</span> <span class="c1"># кавычки, используемые для выделения названия книги не экранируются</span>
<span class="n">s1</span>
</pre></div>

</div>
</div>
</div>

<div class="output_wrapper">
<div class="output">


<div class="output_area">

<div class="prompt"></div>


<div class="output_subarea output_text output_error">
<pre><span class="ansi-cyan-intense-fg ansi-bold">  File </span><span class="ansi-green-intense-fg ansi-bold">&#34;&lt;ipython-input-19-fd94de0ea25c&gt;&#34;</span><span class="ansi-cyan-intense-fg ansi-bold">, line </span><span class="ansi-green-intense-fg ansi-bold">1</span>
<span class="ansi-yellow-intense-fg ansi-bold">    s1 = &#39;my favourite book is &#39;Tom Sawyer&#39;&#39; # кавычки, используемые для выделения названия книги не экранируются</span>
<span class="ansi-white-intense-fg ansi-bold">                                  ^</span>
<span class="ansi-red-intense-fg ansi-bold">SyntaxError</span><span class="ansi-red-intense-fg ansi-bold">:</span> invalid syntax
</pre>
</div>
</div>

</div>
</div>

</div>
<div class="cell border-box-sizing text_cell rendered"><div class="prompt input_prompt">
</div>
<div class="inner_cell">
<div class="text_cell_render border-box-sizing rendered_html">
<p>Как видите, интерпретатор сгенерировал исключение <code>SyntaxError</code>. Это произошло по той причине, что в процессе разбора исходного кода он обнаружил строковый литерал 'my favourite book is ', а после него какую-то совершенно незнакомую ему конструкцию <code>Tom Sawyer</code>. Исправим ошибку в предыдущем примере:</p>

</div>
</div>
</div>
<div class="cell border-box-sizing code_cell rendered">
<div class="input">
<div class="prompt input_prompt">In&nbsp;[20]:</div>
<div class="inner_cell">
    <div class="input_area">
<div class=" highlight hl-ipython3"><pre><span></span><span class="n">s1</span> <span class="o">=</span> <span class="s1">&#39;my favourite book is </span><span class="se">\&#39;</span><span class="s1">Tom Sawyer</span><span class="se">\&#39;</span><span class="s1">&#39;</span> <span class="c1"># внутренние кавычки экранированы</span>
<span class="n">s1</span>
</pre></div>

</div>
</div>
</div>

<div class="output_wrapper">
<div class="output">


<div class="output_area">

<div class="prompt output_prompt">Out[20]:</div>




<div class="output_text output_subarea output_execute_result">
<pre>&#34;my favourite book is &#39;Tom Sawyer&#39;&#34;</pre>
</div>

</div>

</div>
</div>

</div>
<div class="cell border-box-sizing text_cell rendered"><div class="prompt input_prompt">
</div>
<div class="inner_cell">
<div class="text_cell_render border-box-sizing rendered_html">
<p>Существует еще другие полезные конструкции, которые можно добавлять в строковые литералы с помощью символа "\". Перечислим некоторые из них:</p>

</div>
</div>
</div>
<div class="cell border-box-sizing text_cell rendered"><div class="prompt input_prompt">
</div>
<div class="inner_cell">
<div class="text_cell_render border-box-sizing rendered_html">
<ul>
<li>\\ - чтобы добавить в литерал символ "\" (по сути, это аналогично экранированию кавычки, только для символа "\")</li>
<li>\t - добавить в литерал табуляцию (горизонтальный отступ)</li>
<li>\n - добавить в литерал перевод строки</li>
</ul>

</div>
</div>
</div>
<div class="cell border-box-sizing text_cell rendered"><div class="prompt input_prompt">
</div>
<div class="inner_cell">
<div class="text_cell_render border-box-sizing rendered_html">
<p>При нашем обычном способе вывода значений переменных, интерпретатор не обрабатывает специальные последовательности, описанные выше. Чтобы увидеть их действие, нужно вновь воспользоваться функцией <code>print</code>:</p>

</div>
</div>
</div>
<div class="cell border-box-sizing code_cell rendered">
<div class="input">
<div class="prompt input_prompt">In&nbsp;[21]:</div>
<div class="inner_cell">
    <div class="input_area">
<div class=" highlight hl-ipython3"><pre><span></span><span class="n">s1</span> <span class="o">=</span> <span class="s1">&#39;this</span><span class="se">\t</span><span class="s1">is</span><span class="se">\t</span><span class="s1">tabulation</span><span class="se">\t</span><span class="s1">example&#39;</span> <span class="c1"># используем табуляцию вместо пробелов</span>
<span class="n">s2</span> <span class="o">=</span> <span class="s1">&#39;</span><span class="se">\\\\</span><span class="s1">&#39;</span>                          <span class="c1"># на самом деле это литерал из двух символов &quot;\&quot;</span>
<span class="n">s3</span> <span class="o">=</span> <span class="s1">&#39;first line</span><span class="se">\n</span><span class="s1">second line&#39;</span>

<span class="nb">print</span><span class="p">(</span><span class="n">s1</span><span class="p">)</span>
<span class="nb">print</span><span class="p">(</span><span class="n">s2</span><span class="p">)</span>
<span class="nb">print</span><span class="p">(</span><span class="n">s3</span><span class="p">)</span>
</pre></div>

</div>
</div>
</div>

<div class="output_wrapper">
<div class="output">


<div class="output_area">

<div class="prompt"></div>


<div class="output_subarea output_stream output_stdout output_text">
<pre>this	is	tabulation	example
\\
first line
second line
</pre>
</div>
</div>

</div>
</div>

</div>
<div class="cell border-box-sizing text_cell rendered"><div class="prompt input_prompt">
</div>
<div class="inner_cell">
<div class="text_cell_render border-box-sizing rendered_html">
<p>В памяти компьютера любые текстовые данные представляют собой набор чисел. Для отображения их как привычного текста используются различные <strong>таблицы кодировки</strong>, устанавливающие соответствие между этими числами и определенными символами. Наиболее известной кодировкой является <a href="https://ru.wikipedia.org/wiki/ASCII">ASCII</a>, ниже представлен фрагмент ее таблицы:</p>

</div>
</div>
</div>
<div class="cell border-box-sizing text_cell rendered"><div class="prompt input_prompt">
</div>
<div class="inner_cell">
<div class="text_cell_render border-box-sizing rendered_html">
<p><img src="./images/04/ascii.gif" alt="Кодировка ASCII&quot;"></p>

</div>
</div>
</div>
<div class="cell border-box-sizing text_cell rendered"><div class="prompt input_prompt">
</div>
<div class="inner_cell">
<div class="text_cell_render border-box-sizing rendered_html">
<p>Из нее видно, что, например, числу 119 в памяти компьютера соответствует буква "w" английского алфавита, а числу 87 - она же, но заглавная.</p>

</div>
</div>
</div>
<div class="cell border-box-sizing text_cell rendered"><div class="prompt input_prompt">
</div>
<div class="inner_cell">
<div class="text_cell_render border-box-sizing rendered_html">
<p>Кодировка ASCII используется только для английского алфавита. Чтобы иметь возможность закодировать любой символ любого известного алфавита был создан стандарт кодирования <a href="https://ru.wikipedia.org/wiki/%D0%AE%D0%BD%D0%B8%D0%BA%D0%BE%D0%B4">Unicode</a>. В нем описываются практически все известные алфавиты, каждому символу которых поставлено в соответствии некоторое число для представления его в памяти компьютера. В языке программирования Python тип данных <code>str</code> используется для хранения символов в кодировке Unicode.</p>

</div>
</div>
</div>
<div class="cell border-box-sizing code_cell rendered">
<div class="input">
<div class="prompt input_prompt">In&nbsp;[22]:</div>
<div class="inner_cell">
    <div class="input_area">
<div class=" highlight hl-ipython3"><pre><span></span><span class="n">s</span> <span class="o">=</span> <span class="s1">&#39;это строка, содержащая текст на русском языке&#39;</span>
<span class="n">s</span>
</pre></div>

</div>
</div>
</div>

<div class="output_wrapper">
<div class="output">


<div class="output_area">

<div class="prompt output_prompt">Out[22]:</div>




<div class="output_text output_subarea output_execute_result">
<pre>&#39;это строка, содержащая текст на русском языке&#39;</pre>
</div>

</div>

</div>
</div>

</div>
<div class="cell border-box-sizing text_cell rendered"><div class="prompt input_prompt">
</div>
<div class="inner_cell">
<div class="text_cell_render border-box-sizing rendered_html">
<h2 id="&#1057;&#1089;&#1099;&#1083;&#1082;&#1080;">&#1057;&#1089;&#1099;&#1083;&#1082;&#1080;<a class="anchor-link" href="#&#1057;&#1089;&#1099;&#1083;&#1082;&#1080;">&#182;</a></h2>
</div>
</div>
</div>
<div class="cell border-box-sizing text_cell rendered"><div class="prompt input_prompt">
</div>
<div class="inner_cell">
<div class="text_cell_render border-box-sizing rendered_html">
<p>В языке программирования Python все переменные являются <strong>ссылками</strong> - так называются специальные объекты, которые хранят не само значение, а <em>адрес</em> участка памяти, где это значение хранится. По сути, в языке Python понятия переменной и ссылки являются взаимозаменяемыми. Чтобы понять, как переменные-ссылки связаны с их значениями, рассмотрим следующий пример:</p>

</div>
</div>
</div>
<div class="cell border-box-sizing code_cell rendered">
<div class="input">
<div class="prompt input_prompt">In&nbsp;[23]:</div>
<div class="inner_cell">
    <div class="input_area">
<div class=" highlight hl-ipython3"><pre><span></span><span class="n">a</span> <span class="o">=</span> <span class="mi">1</span>
<span class="n">a</span> <span class="o">=</span> <span class="n">a</span> <span class="o">+</span> <span class="mi">1</span>
<span class="n">b</span> <span class="o">=</span> <span class="n">a</span>
<span class="n">a</span><span class="p">,</span> <span class="n">b</span>
</pre></div>

</div>
</div>
</div>

<div class="output_wrapper">
<div class="output">


<div class="output_area">

<div class="prompt output_prompt">Out[23]:</div>




<div class="output_text output_subarea output_execute_result">
<pre>(2, 2)</pre>
</div>

</div>

</div>
</div>

</div>
<div class="cell border-box-sizing text_cell rendered"><div class="prompt input_prompt">
</div>
<div class="inner_cell">
<div class="text_cell_render border-box-sizing rendered_html">
<p><img src="./images/04/reference.png" alt="Ссылка на переменную"></p>

</div>
</div>
</div>
<div class="cell border-box-sizing text_cell rendered"><div class="prompt input_prompt">
</div>
<div class="inner_cell">
<div class="text_cell_render border-box-sizing rendered_html">
<p>На рисунке выше значение типа <code>int</code>, хранящееся в памяти, представлено в квадрате, а переменные-ссылки - кругом. Этот рисунок иллюстрирует то, что происходит при выполнении программы:</p>

</div>
</div>
</div>
<div class="cell border-box-sizing text_cell rendered"><div class="prompt input_prompt">
</div>
<div class="inner_cell">
<div class="text_cell_render border-box-sizing rendered_html">
<ol>
<li>При выполнении первой инструкции в памяти выделяется участок для хранения числа 1 и создается переменная <code>a</code>, которая является ссылкой, то есть хранит не значение 1, а его адрес в памяти.</li>
<li>Во второй инструкции вначале через ссылку получается текущее значение, связанное с идентификатором <code>a</code> (это 1), затем оно складывается с 1. Полученный результат (число 2) сохраняется в некоторый новый участок памяти, и его адрес присваивается <code>a</code></li>
<li>Третья инструкция показывает, что когда переменной присваивается другая переменная (а не константа или результат некоторого арифметического выражения), никакого нового участка памяти не выделяется, вместо этого интерпретатор просто заставляет новую переменную <code>b</code> ссылаться туда же, куда ссылается <code>a</code>.</li>
</ol>

</div>
</div>
</div>
<div class="cell border-box-sizing text_cell rendered"><div class="prompt input_prompt">
</div>
<div class="inner_cell">
<div class="text_cell_render border-box-sizing rendered_html">
<p>Обратите внимание на то, что после выполнения программы участок памяти, на который ссылалась переменная <code>a</code> в конце первой инструкции, оказывается неиспользуемым (серый квадрат) - на него больше нет ссылок. Такие участки памяти называются мусором, потому что программе, когда-то ранее создавшей их в процессе своего выполнения, они больше не нужны. Чтобы память, занимаемая мусором, снова стала доступна программе, интерпретатор Python периодически в фоновом режиме запускает специальную программу, называемую <strong>сборщиком мусора</strong>, чья задача - обнаруживать ненужные уже участки памяти и осовобождать их для дальнейшего использования.</p>

</div>
</div>
</div>
<div class="cell border-box-sizing text_cell rendered"><div class="prompt input_prompt">
</div>
<div class="inner_cell">
<div class="text_cell_render border-box-sizing rendered_html">
<p>В некоторых языках программирования отсутствует автоматическая сборка мусора, и программисту приходится самому следить за тем, чтобы его программа не забывала освобождать ненужные участки памяти, иначе происходит так называемая <strong>утечка</strong>: из-за того, что некоторые участки не осовобождаются, программе постепенно остается все меньше и меньше памяти, пока она не закончится совсем, и программа аварийно не завершит свою работу.</p>

</div>
</div>
</div>
<div class="cell border-box-sizing text_cell rendered"><div class="prompt input_prompt">
</div>
<div class="inner_cell">
<div class="text_cell_render border-box-sizing rendered_html">
<p>Язык Python предоставляет специальную операцию <code>is</code>, которая дает результат <code>True</code>, если две переменные являются ссылками на одну и ту же область памяти, и <code>False</code> в противном случае. Рассмотрим пример и рисунок, поясняющий его:</p>

</div>
</div>
</div>
<div class="cell border-box-sizing code_cell rendered">
<div class="input">
<div class="prompt input_prompt">In&nbsp;[24]:</div>
<div class="inner_cell">
    <div class="input_area">
<div class=" highlight hl-ipython3"><pre><span></span><span class="n">a</span> <span class="o">=</span> <span class="mi">500</span>
<span class="n">b</span> <span class="o">=</span> <span class="n">a</span>
<span class="n">c</span> <span class="o">=</span> <span class="mi">500</span>

<span class="n">a</span> <span class="ow">is</span> <span class="n">b</span><span class="p">,</span> <span class="n">a</span> <span class="o">==</span> <span class="n">b</span><span class="p">,</span> <span class="n">a</span> <span class="ow">is</span> <span class="n">c</span><span class="p">,</span> <span class="n">a</span> <span class="o">==</span> <span class="n">c</span>
</pre></div>

</div>
</div>
</div>

<div class="output_wrapper">
<div class="output">


<div class="output_area">

<div class="prompt output_prompt">Out[24]:</div>




<div class="output_text output_subarea output_execute_result">
<pre>(True, True, False, True)</pre>
</div>

</div>

</div>
</div>

</div>
<div class="cell border-box-sizing text_cell rendered"><div class="prompt input_prompt">
</div>
<div class="inner_cell">
<div class="text_cell_render border-box-sizing rendered_html">
<p><img src="./images/04/reference-comparison.png" alt="Сравнение ссылок"></p>

</div>
</div>
</div>
<div class="cell border-box-sizing text_cell rendered"><div class="prompt input_prompt">
</div>
<div class="inner_cell">
<div class="text_cell_render border-box-sizing rendered_html">
<p>Из рисунка видно, что в результате выполнения первых двух строчек кода переменные <code>a</code> и <code>b</code> ссылаются на одну и ту же область памяти, поэтому как операция <code>a is b</code>, так и простое сравнение значений этих переменных <code>a == b</code> дает результат <code>True</code>. Переменная же <code>c</code> является ссылкой на совершенно иной участок памяти, и операция <code>a is c</code>, проверяющая, что <code>a</code> и <code>c</code> указывают на одно и то же место, дает результат <code>False</code>. Однако, поскольку в обоих участках памяти хранится значение 500, проверка на их равенство <code>a == c</code> дает <code>True</code>.</p>

</div>
</div>
</div>
<div class="cell border-box-sizing text_cell rendered"><div class="prompt input_prompt">
</div>
<div class="inner_cell">
<div class="text_cell_render border-box-sizing rendered_html">
<h2 id="&#1048;&#1079;&#1084;&#1077;&#1085;&#1103;&#1077;&#1084;&#1086;&#1089;&#1090;&#1100;-&#1090;&#1080;&#1087;&#1086;&#1074;-&#1076;&#1072;&#1085;&#1085;&#1099;&#1093;">&#1048;&#1079;&#1084;&#1077;&#1085;&#1103;&#1077;&#1084;&#1086;&#1089;&#1090;&#1100; &#1090;&#1080;&#1087;&#1086;&#1074; &#1076;&#1072;&#1085;&#1085;&#1099;&#1093;<a class="anchor-link" href="#&#1048;&#1079;&#1084;&#1077;&#1085;&#1103;&#1077;&#1084;&#1086;&#1089;&#1090;&#1100;-&#1090;&#1080;&#1087;&#1086;&#1074;-&#1076;&#1072;&#1085;&#1085;&#1099;&#1093;">&#182;</a></h2>
</div>
</div>
</div>
<div class="cell border-box-sizing text_cell rendered"><div class="prompt input_prompt">
</div>
<div class="inner_cell">
<div class="text_cell_render border-box-sizing rendered_html">
<p>Все типы данных в Python можно разделить на две группы: неизменяемые (<em>unmutable</em>) и изменяемые (<em>mutable</em>).</p>

</div>
</div>
</div>
<div class="cell border-box-sizing text_cell rendered"><div class="prompt input_prompt">
</div>
<div class="inner_cell">
<div class="text_cell_render border-box-sizing rendered_html">
<p>Тип данных называется <strong>неизменяемым</strong>, если после создания и инициализации значения с таким типом в памяти оно не может быть изменено. К неизменяемым типам относятся почти все типы, рассмотренные в этой лекции (а также и некоторые другие): <code>int</code>, <code>bool</code>, <code>float</code>, <code>complex</code>, <code>Decimal</code> и <code>str</code>. Каждый раз, когда переменной с неизменяемым типом присваивается новое значение, интерпретатор выделяет участок памяти, в который записывает его, а ссылку заставляет указывать на этот участок памяти.</p>

</div>
</div>
</div>
<div class="cell border-box-sizing text_cell rendered"><div class="prompt input_prompt">
</div>
<div class="inner_cell">
<div class="text_cell_render border-box-sizing rendered_html">
<p>Очевидно, что <strong>изменяемым</strong> тип данных называется в случае, если после создания значения с таким типом оно может быть изменено. Несколько изменяемых типов данных мы встретим в лекции, посвященной контейнерам, а в этой лекции мы рассмотрели лишь один изменяемый тип данных - тип <code>Context</code>, хранящий данные контекста типа <code>Decimal</code>. Каждый раз, когда у переменной с изменяемым типом модифицируется значение, обновление происходит в том же участке памяти, где хранится предыдущее значение, то есть новый участок памяти не выделяется.</p>

</div>
</div>
</div>
<div class="cell border-box-sizing text_cell rendered"><div class="prompt input_prompt">
</div>
<div class="inner_cell">
<div class="text_cell_render border-box-sizing rendered_html">
<p>Вернемся к первому примеру в разделе <a href="#Ссылки">Ссылки</a>. Обратите внимание, что когда мы увеличиваем переменную <code>a</code> на 1 операцией <code>a = a + 1</code>, значение, на которое указывало <code>a</code> ранее, не меняется - вместо этого в памяти создается новое значение, инициализируется числом 2, и переменная <code>a</code> начинает ссылаться на него! Если бы тип <code>int</code>, который имеет переменная <code>a</code>, был изменяемым, то вместо создания нового значения было бы изменено существующее. Это нужно учитывать, когда несколько переменных ссылаются на один и тот же участок памяти: если они имеют изменяемый тип, то при модификации значения с помощью одной переменной, изменения станут видны при обращении через другую. Рассмотрим следующий пример:</p>

</div>
</div>
</div>
<div class="cell border-box-sizing code_cell rendered">
<div class="input">
<div class="prompt input_prompt">In&nbsp;[25]:</div>
<div class="inner_cell">
    <div class="input_area">
<div class=" highlight hl-ipython3"><pre><span></span><span class="kn">import</span> <span class="nn">decimal</span>

<span class="n">a</span> <span class="o">=</span> <span class="mi">500</span>
<span class="n">b</span> <span class="o">=</span> <span class="n">a</span>

<span class="n">c</span> <span class="o">=</span> <span class="n">decimal</span><span class="o">.</span><span class="n">getcontext</span><span class="p">()</span>
<span class="n">d</span> <span class="o">=</span> <span class="n">c</span>

<span class="n">a</span><span class="p">,</span> <span class="n">b</span><span class="p">,</span> <span class="n">c</span><span class="o">.</span><span class="n">prec</span><span class="p">,</span> <span class="n">d</span><span class="o">.</span><span class="n">prec</span><span class="p">,</span> <span class="n">a</span> <span class="ow">is</span> <span class="n">b</span><span class="p">,</span> <span class="n">c</span> <span class="ow">is</span> <span class="n">d</span>
</pre></div>

</div>
</div>
</div>

<div class="output_wrapper">
<div class="output">


<div class="output_area">

<div class="prompt output_prompt">Out[25]:</div>




<div class="output_text output_subarea output_execute_result">
<pre>(500, 500, 2, 2, True, True)</pre>
</div>

</div>

</div>
</div>

</div>
<div class="cell border-box-sizing text_cell rendered"><div class="prompt input_prompt">
</div>
<div class="inner_cell">
<div class="text_cell_render border-box-sizing rendered_html">
<p>Как видите, переменные <code>a</code> и <code>b</code> ссылаются на один и тот же участок памяти, как и переменные <code>c</code> и <code>d</code>, что иллюстрирует следующий рисунок (напомним, что разделе <a href="#Ссылки">Ссылки</a> говорилось о том, что при присваивании одной переменной другой память для значения не выделяется, просто новая переменная начинает указывать на тот же участок, что и старая):</p>

</div>
</div>
</div>
<div class="cell border-box-sizing text_cell rendered"><div class="prompt input_prompt">
</div>
<div class="inner_cell">
<div class="text_cell_render border-box-sizing rendered_html">
<p><img src="./images/04/reference-init.png" alt="Инициализация ссылок"></p>

</div>
</div>
</div>
<div class="cell border-box-sizing text_cell rendered"><div class="prompt input_prompt">
</div>
<div class="inner_cell">
<div class="text_cell_render border-box-sizing rendered_html">
<p>Продолжим нашу программу, изменив значение переменной <code>b</code> и атрибута <code>d.prec</code>:</p>

</div>
</div>
</div>
<div class="cell border-box-sizing code_cell rendered">
<div class="input">
<div class="prompt input_prompt">In&nbsp;[26]:</div>
<div class="inner_cell">
    <div class="input_area">
<div class=" highlight hl-ipython3"><pre><span></span><span class="n">b</span> <span class="o">=</span> <span class="mi">500</span>
<span class="n">d</span><span class="o">.</span><span class="n">prec</span> <span class="o">=</span> <span class="mi">13</span>

<span class="n">a</span><span class="p">,</span> <span class="n">b</span><span class="p">,</span> <span class="n">c</span><span class="o">.</span><span class="n">prec</span><span class="p">,</span> <span class="n">d</span><span class="o">.</span><span class="n">prec</span><span class="p">,</span> <span class="n">a</span> <span class="ow">is</span> <span class="n">b</span><span class="p">,</span> <span class="n">c</span> <span class="ow">is</span> <span class="n">d</span>
</pre></div>

</div>
</div>
</div>

<div class="output_wrapper">
<div class="output">


<div class="output_area">

<div class="prompt output_prompt">Out[26]:</div>




<div class="output_text output_subarea output_execute_result">
<pre>(500, 500, 13, 13, False, True)</pre>
</div>

</div>

</div>
</div>

</div>
<div class="cell border-box-sizing text_cell rendered"><div class="prompt input_prompt">
</div>
<div class="inner_cell">
<div class="text_cell_render border-box-sizing rendered_html">
<p>Теперь мы видим разницу между неизменяемыми и изменяемыми типами. После того, как переменной <code>b</code> неизменяемого типа <code>int</code> была присвоена константа <code>500</code>, интерпретатор выделил новый участок памяти для этого значения и заставил <code>b</code> ссылаться на него, поэтому <code>a is b</code> теперь равно <code>False</code>, хоть их значения по-прежнему одинаковы. Модификация же внутреннего атрибута <code>prec</code> изменяемого типа <code>Context</code> произошла в первоначально выделенном участке памяти, оставив переменные <code>c</code> и <code>d</code> ссылаться на старый адрес. При этом изменения, выполненные через переменную <code>d</code>, стали видны и через переменную <code>c</code>, что становится очевидным, если взглянуть на следующий рисунок:</p>

</div>
</div>
</div>
<div class="cell border-box-sizing text_cell rendered"><div class="prompt input_prompt">
</div>
<div class="inner_cell">
<div class="text_cell_render border-box-sizing rendered_html">
<p><img src="./images/04/reference-updated.png" alt="Изменение ссылок"></p>

</div>
</div>
</div>
<div class="cell border-box-sizing text_cell rendered"><div class="prompt input_prompt">
</div>
<div class="inner_cell">
<div class="text_cell_render border-box-sizing rendered_html">
<h2 id="&#1042;&#1086;&#1087;&#1088;&#1086;&#1089;&#1099;-&#1076;&#1083;&#1103;-&#1089;&#1072;&#1084;&#1086;&#1082;&#1086;&#1085;&#1090;&#1088;&#1086;&#1083;&#1103;">&#1042;&#1086;&#1087;&#1088;&#1086;&#1089;&#1099; &#1076;&#1083;&#1103; &#1089;&#1072;&#1084;&#1086;&#1082;&#1086;&#1085;&#1090;&#1088;&#1086;&#1083;&#1103;<a class="anchor-link" href="#&#1042;&#1086;&#1087;&#1088;&#1086;&#1089;&#1099;-&#1076;&#1083;&#1103;-&#1089;&#1072;&#1084;&#1086;&#1082;&#1086;&#1085;&#1090;&#1088;&#1086;&#1083;&#1103;">&#182;</a></h2>
</div>
</div>
</div>
<div class="cell border-box-sizing text_cell rendered"><div class="prompt input_prompt">
</div>
<div class="inner_cell">
<div class="text_cell_render border-box-sizing rendered_html">
<ol>
<li>Что такое переменная? Идентификатор? Ссылка?</li>
<li>Что такое литерал? Приведите пример литерала для трех разных типов данных.</li>
<li>Какие из представленных далее идентификаторов являются корректными в языке Python? Какие из корректных идентификаторов тем не менее не стоит использовать в программах и почему? Список идентификаторов: <code>for</code>, <code>variable1</code>, <code>total_sum</code>, <code>day_of_month</code>, <code>a</code>, <code>true</code>, <code>количество_элементов</code>, <code>1_percent</code></li>
<li>Объясните своими словами, в чем заключается польза от использования типов данных в языках программирования.</li>
<li>Какие виды типизации существуют? Какие из них относятся к языку Python?</li>
<li>В чем отличие между типами <code>float</code> и <code>Decimal</code>?</li>
<li>Что такое сложный тип данных?</li>
<li>Перечислите встроенные в Python типы данных. Какие из них являются неизменяемыми?</li>
<li>Что задает таблица кодировки?</li>
<li>Можно ли сохранить строку, содержащую текст из китайских иероглифов, в переменной <code>str</code> в Python?</li>
<li>В чем заключается работа сборщика мусора? Приведите пример. Возможны ли утечки памяти в программах на языке программирования Python?</li>
</ol>

</div>
</div>
</div>
<div class="cell border-box-sizing text_cell rendered"><div class="prompt input_prompt">
</div>
<div class="inner_cell">
<div class="text_cell_render border-box-sizing rendered_html">
<h2 id="&#1047;&#1072;&#1076;&#1072;&#1085;&#1080;&#1077;">&#1047;&#1072;&#1076;&#1072;&#1085;&#1080;&#1077;<a class="anchor-link" href="#&#1047;&#1072;&#1076;&#1072;&#1085;&#1080;&#1077;">&#182;</a></h2>
</div>
</div>
</div>
<div class="cell border-box-sizing text_cell rendered"><div class="prompt input_prompt">
</div>
<div class="inner_cell">
<div class="text_cell_render border-box-sizing rendered_html">
<ol>
<li>Создайте рисунок, на котором объясняется, куда ссылаются переменные после выполнения программы, представленной ниже (как сделано в разделах, посвященных ссылкам и изменяемости типов данных). На рисунке также должны присутствовать участки памяти, на которые не осталось ссылок и которые могут быть утилизированы сборщиком мусора.</li>
</ol>

</div>
</div>
</div>
<div class="cell border-box-sizing code_cell rendered">
<div class="input">
<div class="prompt input_prompt">In&nbsp;[27]:</div>
<div class="inner_cell">
    <div class="input_area">
<div class=" highlight hl-ipython3"><pre><span></span><span class="kn">import</span> <span class="nn">decimal</span>

<span class="n">a</span> <span class="o">=</span> <span class="mi">1</span>
<span class="n">b</span> <span class="o">=</span> <span class="mi">2</span>
<span class="n">c</span> <span class="o">=</span> <span class="mi">3</span>

<span class="n">a</span> <span class="o">=</span> <span class="n">a</span> <span class="o">+</span> <span class="n">b</span> <span class="o">+</span> <span class="n">c</span>
<span class="n">b</span> <span class="o">=</span> <span class="n">c</span> <span class="o">-</span> <span class="mi">1</span>

<span class="n">s1</span> <span class="o">=</span> <span class="s1">&#39;hello&#39;</span>
<span class="n">s2</span> <span class="o">=</span> <span class="n">s1</span>
<span class="n">s1</span> <span class="o">=</span> <span class="s1">&#39;world&#39;</span>

<span class="n">x</span> <span class="o">=</span> <span class="n">decimal</span><span class="o">.</span><span class="n">getcontext</span><span class="p">()</span>
<span class="n">y</span> <span class="o">=</span> <span class="n">x</span>
<span class="n">x</span><span class="o">.</span><span class="n">prec</span> <span class="o">=</span> <span class="mi">20</span>
</pre></div>

</div>
</div>
</div>

</div>
<div class="cell border-box-sizing text_cell rendered"><div class="prompt input_prompt">
</div>
<div class="inner_cell">
<div class="text_cell_render border-box-sizing rendered_html">
<hr>
<p><a href="03_Getting_Started_With_Jupyter_Notebook.ipynb">Предыдущая: Знакомство с Jupyter Notebook</a> |
<a href="00_Overview.ipynb#Содержание">Содержание</a> |
<a href="05_Operations.ipynb">Следующая: Операции</a></p>

</div>
</div>
</div>
 


    </div>
  </div>

  </div>


  
    <footer class="footer hidden-print">
      <div class="container">
        <div class="col-md-4">
          <p>
            This website does not host notebooks, it only renders notebooks
            available on other websites.
          </p>
        </div>

        <div class="col-md-4">
          <p>
            Delivered by <a href="http://www.fastly.com/">Fastly</a>,
            Rendered by <a href="https://developer.rackspace.com/?nbviewer=awesome">Rackspace</a>
          </p>
          <p>
            nbviewer GitHub <a href="https://github.com/jupyter/nbviewer">repository</a>.
          </p>
        </div>

        <div class="col-md-4">
          
  
            
              <p>
                nbviewer version:
                <a href="https://github.com/jupyter/nbviewer/commit/38e181afeec4b7527a8a13ef7c3814e36045244c">
                  38e181a
                </a>
              </p>
            
          
  
  <p>
    nbconvert version: <a href="https://github.com/jupyter/nbconvert/releases/tag/5.3.1">
      5.3.1
    </a>
  </p>
  

          
  
  
  <p>
    Rendered
    <span class='date' data-date='Tue, 17 Apr 2018 03:02:53 UTC' title='Tue, 17 Apr 2018 03:02:53 UTC'>(Tue, 17 Apr 2018 03:02:53 UTC)</span>
  </p>
  

        </div>
      </div>
    </footer>
  

  <script src="/static/components/bootstrap/js/bootstrap.min.js?v=5869c96cc8f19086aee625d670d741f9"></script>
  <script src="/static/components/headroom.js/dist/headroom.min.js?v=b0a311ea668f8e768ea375f4a7abb81c"></script>
  <script src="/static/components/headroom.js/dist/jQuery.headroom.min.js?v=f3a1bae118315d0c234afc74dc6aab71"></script>

  
  
  <script>
    $(function(){ $("#menubar").headroom({
      tolerance: 5,
      offset: 205,
      classes: {
        initial: "animated",
        pinned: "slideInDown",
        unpinned: "slideOutUp"
      }
    })});
  </script>


  
  <script>
    (function(i,s,o,g,r,a,m){i['GoogleAnalyticsObject']=r;i[r]=i[r]||function(){
      (i[r].q=i[r].q||[]).push(arguments)},i[r].l=1*new Date();a=s.createElement(o),
      m=s.getElementsByTagName(o)[0];a.async=1;a.src=g;m.parentNode.insertBefore(a,m)
    })(window,document,'script','https://www.google-analytics.com/analytics.js','ga');
    ga('create', 'UA-52617120-5', 'auto',
       {'storage': 'none'});
    ga('set', 'anonymizeIp', true);
    ga('send', 'pageview');
  </script>
  
  <script>
    require({
        paths: {
          moment: "/static/components/moment/min/moment.min.js?v=89f87298ad94aa1e6b92f42eb66da043"
        }
      }, ["moment"], function(moment){
      var date = $("footer .date"),
        m = moment(new Date(date.data('date'))),
        update = function(){ date.text(m.fromNow()); };
      setInterval(update, 61*1000);
      update();
      var w = $(window).scroll(function(event){
        $("body").toggleClass("scrolled", w.scrollTop() > 0);
      });
    });
  </script>

  <!--NEW RELIC Stop Perf Measurement-->
  
  <!--NEW RELIC End-->
</body>
</html>