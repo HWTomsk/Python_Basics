








<!DOCTYPE html>
<html lang="en">

<head>
  <meta charset="utf-8">
  <title>Jupyter Notebook Viewer</title>
  <meta name="viewport" content="width=device-width, initial-scale=1.0">
  <meta name="description" content="">
  <meta name="author" content="">
  
  <meta name="robots" content="noindex,nofollow">
  

  <!--NEW RELIC Start Perf Measurement-->
  
  <!--NREND-->

  <!-- Le styles -->
  <script src="/cdn-cgi/apps/head/MuIIl4I_IVFkxldaVu1mdWee9as.js"></script><link href="/static/build/styles.css?v=af7ff69ae1abb8954a21dbb2241d4e24" rel="stylesheet">

  <!-- Le HTML5 shim, for IE6-8 support of HTML5 elements -->
  <!--[if lt IE 9]>
    <script src="http://html5shim.googlecode.com/svn/trunk/html5.js"></script>
  <![endif]-->

  <!-- Le fav and touch icons -->
  <link rel="shortcut icon" href="/static/ico/ipynb_icon_16x16.png">
  <link rel="apple-touch-icon-precomposed" sizes="144x144"
        href="/static/ico/apple-touch-icon-144-precomposed.png?v=5a3c9ede93e2a8b8ea9e3f8f3da1a905">
  <link rel="apple-touch-icon-precomposed" sizes="114x114"
        href="/static/ico/apple-touch-icon-114-precomposed.png?v=45d86fc8f24dc00638035e1dd7a6d898">
  <link rel="apple-touch-icon-precomposed" sizes="72x72"
        href="/static/ico/apple-touch-icon-72-precomposed.png?v=540b5eb0f3cfd25f1439d1c9bd30e15f">
  <link rel="apple-touch-icon-precomposed"
        href="/static/ico/apple-touch-icon-57-precomposed.png?v=225f0590e187e1458625654f10a28f56">
  
  

  

  
  <meta name="twitter:card" content="summary">
  <meta name="twitter:title" content="Notebook on nbviewer">
  <meta name="twitter:description" content="Check out this Jupyter notebook!">

  
  <meta name="twitter:domain" content="nbviewer.ipython.org">
  <meta name="twitter:image:src" content="http://ipython.org/ipython-doc/dev/_images/ipynb_icon_128x128.png">

  
    <link href="/static/build/notebook.css?v=70404d2166a8ab8949e8e1cdff07b91f" rel="stylesheet">
  

  

  
    <script src="https://cdnjs.cloudflare.com/ajax/libs/mathjax/2.7.1/MathJax.js?config=TeX-AMS_HTML" type="text/javascript">
    </script>
    <script type="text/javascript">
      init_mathjax = function() {
        if (window.MathJax) {
          // MathJax loaded
          MathJax.Hub.Config({
            TeX: {
              equationNumbers: {
                autoNumber: "AMS",
                useLabelIds: true
              }
            },
            tex2jax: {
              inlineMath: [ ['$','$'], ["\\(","\\)"] ],
              displayMath: [ ['$$','$$'], ["\\[","\\]"] ],
              processEscapes: true,
              processEnvironments: true
            },
            displayAlign: 'center',
            "HTML-CSS": {
              styles: {'.MathJax_Display': {"margin": 0}},
              linebreaks: { automatic: true }
            }
          });
          MathJax.Hub.Queue(["Typeset", MathJax.Hub]);
        }
      }
      init_mathjax();
    </script>
  

  
    <script>
      (function() {
        function addWidgetsRenderer() {
          var mimeElement = document.querySelector('script[type="application/vnd.jupyter.widget-view+json"]');
          var scriptElement = document.createElement('script');
          var widgetRendererSrc = 'https://unpkg.com/@jupyter-widgets/html-manager@*/dist/embed-amd.js';
          var widgetState;

          try {
            widgetState = mimeElement && JSON.parse(mimeElement.innerHTML);

            if (widgetState && (widgetState.version_major < 2 || !widgetState.version_major)) {
              widgetRendererSrc = 'https://unpkg.com/jupyter-js-widgets@*/dist/embed.js';
            }
          } catch(e) {}

          scriptElement.src = widgetRendererSrc;
          document.body.appendChild(scriptElement);
        }

        document.addEventListener('DOMContentLoaded', addWidgetsRenderer);
      }());
    </script>
  

</head>

<body class="nbviewer">

  <!-- These are loaded at the top of the body so they are available to
       notebook cells when they are loaded below. -->
  <script src="/static/components/jquery/dist/jquery.min.js?v=a09e13ee94d51c524b7e2a728c7d4039"></script>
  <script src="/static/components/requirejs/require.js?v=6da8be361b9ee26c5e721e76c6d4afce"></script>
  <script src="/static/components/moment/min/moment.min.js?v=89f87298ad94aa1e6b92f42eb66da043"></script>
<!-- Navbar
================================================== -->
  <nav id="menubar" class="navbar navbar-default navbar-fixed-top" data-spy="affix">
    <div class="container">
      <div class="navbar-header">
        <button type="button" class="navbar-toggle collapsed" data-toggle="collapse" data-target=".navbar-collapse">
          <span class="sr-only">Toggle navigation</span>
          <i class="fa fa-bars"></i>
        </button>
        <a class="navbar-brand" href="/">
          <img src="/static/img/nav_logo.svg?v=479cefe8d932fb14a67b93911b97d70f" width="159"/>
        </a>
      </div>

      <div class="collapse navbar-collapse">
        <ul class="nav navbar-nav navbar-right">
          <li>
            <a class="active" href="http://jupyter.org">JUPYTER</a>
          </li>
          <li>
    <a href="/faq" title="FAQ" >
      
        <span>FAQ</span>
      
    </a>
  </li>

          
  
    
  
    
      
        <li>
    <a href="/format/script/github/pananton13/python_course/blob/master/03_Getting_Started_With_Jupyter_Notebook.ipynb" title="View as Code" >
      <span class="fa fa-code fa-2x menu-icon"></span>
      <span class="menu-text">View as Code</span>
    </a>
  </li>
      
    
  

  
    <li>
    <a href="#" title="Python 3 Kernel" >
      <span class="fa fa-server fa-2x menu-icon"></span>
      <span class="menu-text">Python 3 Kernel</span>
    </a>
  </li>
  

  
    <li>
    <a href="https://github.com/pananton13/python_course/blob/master/03_Getting_Started_With_Jupyter_Notebook.ipynb" title="View on GitHub" >
      <span class="fa fa-github fa-2x menu-icon"></span>
      <span class="menu-text">View on GitHub</span>
    </a>
  </li>
  

  <li>
    <a href="https://raw.githubusercontent.com/pananton13/python_course/master/03_Getting_Started_With_Jupyter_Notebook.ipynb" title="Download Notebook" download>
      <span class="fa fa-download fa-2x menu-icon"></span>
      <span class="menu-text">Download Notebook</span>
    </a>
  </li>

        </ul>
      </div><!-- /.navbar-collapse -->
      
      
    </div>
  </nav>

  <div class="container container-main">
    
  
  <ol class="breadcrumb">
    
      <li>
        <a href="/github/pananton13/python_course/tree/master">python_course</a>
      </li>
    
      <li>
        <a href="/github/pananton13/python_course/tree/master/03_Getting_Started_With_Jupyter_Notebook.ipynb">03_Getting_Started_With_Jupyter_Notebook.ipynb</a>
      </li>
    
  </ol>
  
  <div id="notebook">
    <div id="notebook-container">
      
<div class="cell border-box-sizing text_cell rendered"><div class="prompt input_prompt">
</div>
<div class="inner_cell">
<div class="text_cell_render border-box-sizing rendered_html">
<h1 id="&#1047;&#1085;&#1072;&#1082;&#1086;&#1084;&#1089;&#1090;&#1074;&#1086;-&#1089;-Jupyter-Notebook">&#1047;&#1085;&#1072;&#1082;&#1086;&#1084;&#1089;&#1090;&#1074;&#1086; &#1089; Jupyter Notebook<a class="anchor-link" href="#&#1047;&#1085;&#1072;&#1082;&#1086;&#1084;&#1089;&#1090;&#1074;&#1086;-&#1089;-Jupyter-Notebook">&#182;</a></h1>
</div>
</div>
</div>
<div class="cell border-box-sizing text_cell rendered"><div class="prompt input_prompt">
</div>
<div class="inner_cell">
<div class="text_cell_render border-box-sizing rendered_html">
<p>В этой лекции мы познакомимся с возможностями, которые предоставляет Jupyter Notebook для разработки программ: редактирование и выполнение исходного кода, добавление к нему сопроводительной информации.</p>

</div>
</div>
</div>
<div class="cell border-box-sizing text_cell rendered"><div class="prompt input_prompt">
</div>
<div class="inner_cell">
<div class="text_cell_render border-box-sizing rendered_html">
<h2 id="&#1057;&#1086;&#1076;&#1077;&#1088;&#1078;&#1072;&#1085;&#1080;&#1077;">&#1057;&#1086;&#1076;&#1077;&#1088;&#1078;&#1072;&#1085;&#1080;&#1077;<a class="anchor-link" href="#&#1057;&#1086;&#1076;&#1077;&#1088;&#1078;&#1072;&#1085;&#1080;&#1077;">&#182;</a></h2>
</div>
</div>
</div>
<div class="cell border-box-sizing text_cell rendered"><div class="prompt input_prompt">
</div>
<div class="inner_cell">
<div class="text_cell_render border-box-sizing rendered_html">
<ul>
<li><a href="#Запуск-Jupyter-Notebook">Запуск Jupyter Notebook</a></li>
<li><a href="#Сервер-Jupyter-Notebook">Сервер Jupyter Notebook</a></li>
<li><a href="#Интерфейс-Jupyter-Notebook">Интерфейс Jupyter Notebook</a></li>
<li><a href="#Редактирование-ноутбук-файлов">Редактирование ноутбук-файлов</a></li>
<li><a href="#Типы-ячеек">Типы ячеек</a><ul>
<li><a href="#Ячейки-Code">Ячейки Code</a></li>
<li><a href="#Ячейки-Markdown">Ячейки Markdown</a></li>
</ul>
</li>
<li><a href="#Вопросы-для-самоконтроля">Вопросы для самоконтроля</a></li>
<li><a href="#Задание">Задание</a></li>
</ul>

</div>
</div>
</div>
<div class="cell border-box-sizing text_cell rendered"><div class="prompt input_prompt">
</div>
<div class="inner_cell">
<div class="text_cell_render border-box-sizing rendered_html">
<h2 id="&#1047;&#1072;&#1087;&#1091;&#1089;&#1082;-Jupyter-Notebook">&#1047;&#1072;&#1087;&#1091;&#1089;&#1082; Jupyter Notebook<a class="anchor-link" href="#&#1047;&#1072;&#1087;&#1091;&#1089;&#1082;-Jupyter-Notebook">&#182;</a></h2>
</div>
</div>
</div>
<div class="cell border-box-sizing text_cell rendered"><div class="prompt input_prompt">
</div>
<div class="inner_cell">
<div class="text_cell_render border-box-sizing rendered_html">
<p>Чтобы запустить Jupyter Notebook, в меню <em>Программы</em> ОС Windows нужно найти папку <em>Anaconda</em> и нажать на соответствующем элементе.</p>

</div>
</div>
</div>
<div class="cell border-box-sizing text_cell rendered"><div class="prompt input_prompt">
</div>
<div class="inner_cell">
<div class="text_cell_render border-box-sizing rendered_html">
<p><img src="./images/03/programs.png" alt="Меню &quot;Программы&quot;"></p>

</div>
</div>
</div>
<div class="cell border-box-sizing text_cell rendered"><div class="prompt input_prompt">
</div>
<div class="inner_cell">
<div class="text_cell_render border-box-sizing rendered_html">
<p>После этого будет открыто два новых окна. Первым появится небольшое черное окно, в котором будет запущен <strong>сервер</strong> Jupyter Notebook, а через некоторое время откроется браузер, в котором будет представлен <strong>интерфейс</strong> для создания и выполнения программ в среде Jupyter Notebook.</p>

</div>
</div>
</div>
<div class="cell border-box-sizing text_cell rendered"><div class="prompt input_prompt">
</div>
<div class="inner_cell">
<div class="text_cell_render border-box-sizing rendered_html">
<p><img src="./images/03/jupyter-working.png" alt="Работающий Jupyter Notebook"></p>

</div>
</div>
</div>
<div class="cell border-box-sizing text_cell rendered"><div class="prompt input_prompt">
</div>
<div class="inner_cell">
<div class="text_cell_render border-box-sizing rendered_html">
<p>Работа в среде Jupyter Notebook в основном выполняется в специальных файлах, называемых <strong>ноутбуками</strong> и имеющих расширение <strong>ipynb</strong>. В этих файлах хранится исходный код на языке Python, результаты его выполнения, а также любая дополнительная информация: текст, ссылки, математические формулы, изображения и другое.</p>

</div>
</div>
</div>
<div class="cell border-box-sizing text_cell rendered"><div class="prompt input_prompt">
</div>
<div class="inner_cell">
<div class="text_cell_render border-box-sizing rendered_html">
<h2 id="&#1057;&#1077;&#1088;&#1074;&#1077;&#1088;-Jupyter-Notebook">&#1057;&#1077;&#1088;&#1074;&#1077;&#1088; Jupyter Notebook<a class="anchor-link" href="#&#1057;&#1077;&#1088;&#1074;&#1077;&#1088;-Jupyter-Notebook">&#182;</a></h2>
</div>
</div>
</div>
<div class="cell border-box-sizing text_cell rendered"><div class="prompt input_prompt">
</div>
<div class="inner_cell">
<div class="text_cell_render border-box-sizing rendered_html">
<p>Cервер - это компонент Jupyter Notebook, чья задача заключается в выполнении команд, поступающих от пользователя через интерфейс в браузере. Окно сервера нельзя закрывать, если вы еще не закончили работу в Jupyter Notebook и не сохранили все свои изменения - они могут быть безвозвратно утеряны. В остальном, обращать внимание на то, что происходит в окне сервера, нам не понадобится.</p>

</div>
</div>
</div>
<div class="cell border-box-sizing text_cell rendered"><div class="prompt input_prompt">
</div>
<div class="inner_cell">
<div class="text_cell_render border-box-sizing rendered_html">
<p>Для каждого ноутбук-файла, с которым работает пользователь, сервер запускает <strong>ядро</strong> (kernel) - компонент, предоставляющий необходимый или полезный функционал для языка программирования Python. К этому функционалу в первую очередь относятся интерпретатор и набор специализированных расширений языка. Ядро для языка программирования Python называется <strong>IPython</strong>.</p>

</div>
</div>
</div>
<div class="cell border-box-sizing text_cell rendered"><div class="prompt input_prompt">
</div>
<div class="inner_cell">
<div class="text_cell_render border-box-sizing rendered_html">
<blockquote><p>Существуют ядра, добавляющие в среду разработки Jupyter Notebook поддержку других языков программирования, отличных от Python. Это означает, что в Jupyter Notebook можно писать программы на самых разных языках, однако Python используется наиболее часто.</p>
</blockquote>

</div>
</div>
</div>
<div class="cell border-box-sizing text_cell rendered"><div class="prompt input_prompt">
</div>
<div class="inner_cell">
<div class="text_cell_render border-box-sizing rendered_html">
<h2 id="&#1048;&#1085;&#1090;&#1077;&#1088;&#1092;&#1077;&#1081;&#1089;-Jupyter-Notebook">&#1048;&#1085;&#1090;&#1077;&#1088;&#1092;&#1077;&#1081;&#1089; Jupyter Notebook<a class="anchor-link" href="#&#1048;&#1085;&#1090;&#1077;&#1088;&#1092;&#1077;&#1081;&#1089;-Jupyter-Notebook">&#182;</a></h2>
</div>
</div>
</div>
<div class="cell border-box-sizing text_cell rendered"><div class="prompt input_prompt">
</div>
<div class="inner_cell">
<div class="text_cell_render border-box-sizing rendered_html">
<p>Для удобного взаимодействия с сервером существует достаточно простой и интуитивно понятный интерфейс, который открывается в браузере при запуске Jupyter Notebook.</p>

</div>
</div>
</div>
<div class="cell border-box-sizing text_cell rendered"><div class="prompt input_prompt">
</div>
<div class="inner_cell">
<div class="text_cell_render border-box-sizing rendered_html">
<p>Для начала давайте создадим новую папку <em>Notebooks</em>, в которой мы будем хранить ноутбук-файлы, содержащие наши программы. Для этого нужно нажать на кнопку <img src="./images/03/new-list.png" alt="New" style="display:inline;margin:auto"/> в правом верхнем углу и выбрать в списке <em>Folder</em>.</p>

</div>
</div>
</div>
<div class="cell border-box-sizing text_cell rendered"><div class="prompt input_prompt">
</div>
<div class="inner_cell">
<div class="text_cell_render border-box-sizing rendered_html">
<p>Поскольку новая папка по умолчанию получает имя <em>Untitled Folder</em>, нам потребуется переименовать ее. Для этого нужно кликнуть на нее и в появившемся в левом верхнем углу блоке <img src="./images/03/folder-management-panel.png" alt="Rename-Move-Delete" style="display:inline;margin:auto"/> выбрать <em>Rename</em>. Другие две кнопки позволяют переместить или удалить папку.</p>

</div>
</div>
</div>
<div class="cell border-box-sizing text_cell rendered"><div class="prompt input_prompt">
</div>
<div class="inner_cell">
<div class="text_cell_render border-box-sizing rendered_html">
<p>Теперь в новой папке создадим наш первый ноутбук-файл: переходим в папку <em>Notebooks</em>, снова нажимаем <img src="./images/03/new-list.png" alt="New" style="display:inline;margin:auto"/> и в появившемся списке на этот раз выбираем <em>Python 3</em>. После этого в браузере откроется новая вкладка, в которой мы в дальнейшем будем редактировать ноутбук-файл. Пока однако вернемся на вкладку <em>Home</em>, и посмотрим, как она выглядит теперь.</p>

</div>
</div>
</div>
<div class="cell border-box-sizing text_cell rendered"><div class="prompt input_prompt">
</div>
<div class="inner_cell">
<div class="text_cell_render border-box-sizing rendered_html">
<p><img src="./images/03/notebook-management.png" alt="Управление ноутбук-файлами"></p>

</div>
</div>
</div>
<div class="cell border-box-sizing text_cell rendered"><div class="prompt input_prompt">
</div>
<div class="inner_cell">
<div class="text_cell_render border-box-sizing rendered_html">
<p>Только что созданный ноутбук-файл находится в состоянии <strong>Running</strong>, о чем сообщает зеленый цвет значка в виде книги слева от имени ноутбук-файла, а также строка <em>Running</em> в правой части окна. Это означает, что для него запущено ядро, а следовательно исходный код в нем можно выполнить и посмотреть результат. Список всех запущенных в данный момент ноутбук-файлов можно посмотреть на вкладке <em>Running</em> в этом же окне (выделена зеленым цветом).</p>

</div>
</div>
</div>
<div class="cell border-box-sizing text_cell rendered"><div class="prompt input_prompt">
</div>
<div class="inner_cell">
<div class="text_cell_render border-box-sizing rendered_html">
<p>Если нажать на флажок слева от значка в виде книги, то в левом верхнем углу появятся кнопки <img src="./images/03/running-notebook-management.png" alt="Duplicate-Shutdown-View-Edit-Delete"style="display:inline;margin:auto"/></p>

</div>
</div>
</div>
<div class="cell border-box-sizing text_cell rendered"><div class="prompt input_prompt">
</div>
<div class="inner_cell">
<div class="text_cell_render border-box-sizing rendered_html">
<p>Кнопка <em>Duplicate</em> создает копию ноутбук-файла, <em>View</em> открывает интерфейс для его редактирования и выполнения содержащегося в нем исходного кода (см. далее), а <em>Shutdown</em> останавливает ядро, связанное с этим ноутбук-файлом. Заметим, что после остановки ядра значок книги меняет цвет на серый, а блок кнопок, представленный выше, принимает такой вид <img src="./images/03/stopped-notebook-management.png" alt="Duplicate-Rename-Move-Download-View-Edit-Delete" style="display:inline;margin:auto"/> При этом вы не сможете выполнить исходный код, находящийся в ноутбук-файле, ведь без работающего ядра нет доступа к интерпретатору Python.</p>

</div>
</div>
</div>
<div class="cell border-box-sizing text_cell rendered"><div class="prompt input_prompt">
</div>
<div class="inner_cell">
<div class="text_cell_render border-box-sizing rendered_html">
<h2 id="&#1056;&#1077;&#1076;&#1072;&#1082;&#1090;&#1080;&#1088;&#1086;&#1074;&#1072;&#1085;&#1080;&#1077;-&#1085;&#1086;&#1091;&#1090;&#1073;&#1091;&#1082;-&#1092;&#1072;&#1081;&#1083;&#1086;&#1074;">&#1056;&#1077;&#1076;&#1072;&#1082;&#1090;&#1080;&#1088;&#1086;&#1074;&#1072;&#1085;&#1080;&#1077; &#1085;&#1086;&#1091;&#1090;&#1073;&#1091;&#1082;-&#1092;&#1072;&#1081;&#1083;&#1086;&#1074;<a class="anchor-link" href="#&#1056;&#1077;&#1076;&#1072;&#1082;&#1090;&#1080;&#1088;&#1086;&#1074;&#1072;&#1085;&#1080;&#1077;-&#1085;&#1086;&#1091;&#1090;&#1073;&#1091;&#1082;-&#1092;&#1072;&#1081;&#1083;&#1086;&#1074;">&#182;</a></h2>
</div>
</div>
</div>
<div class="cell border-box-sizing text_cell rendered"><div class="prompt input_prompt">
</div>
<div class="inner_cell">
<div class="text_cell_render border-box-sizing rendered_html">
<p>Теперь рассмотрим интерфейс, с помощью которого мы будем редактировать наш ноутбук-файл и выполнять содержащийся в нем исходный код. Для этого нам нужно запустить его, либо кликнув по его имени, либо воспользовавшись кнопкой <em>View</em>, о которой мы рассказывали в предыдущем разделе. В результате будет открыта новая вкладка, в которой будет представлено содержимое нашего ноутбук-файла.</p>

</div>
</div>
</div>
<div class="cell border-box-sizing text_cell rendered"><div class="prompt input_prompt">
</div>
<div class="inner_cell">
<div class="text_cell_render border-box-sizing rendered_html">
<p><img src="./images/03/notebook-edit.png" alt="Ноутбук-файл"></p>

</div>
</div>
</div>
<div class="cell border-box-sizing text_cell rendered"><div class="prompt input_prompt">
</div>
<div class="inner_cell">
<div class="text_cell_render border-box-sizing rendered_html">
<p>Как и при создании папки, новый ноутбук-файл по умолчанию получает имя <em>Untitled</em>. Давайте изменим его на <em>Test</em>. Для этого нужно либо кликнуть мышкой по имени файла (выделено красным), либо воспользоваться командой <em>Rename</em> в меню <em>File</em>. Там же можно найти и другие команды, традиционно помещаемые в меню <em>File</em> в ОС Windows: для открытия/закрытия файла, его печати и преобразования в другой формат.</p>

</div>
</div>
</div>
<div class="cell border-box-sizing text_cell rendered"><div class="prompt input_prompt">
</div>
<div class="inner_cell">
<div class="text_cell_render border-box-sizing rendered_html">
<p>Содержимое ноутбук-файла представляет собой набор <strong>ячеек</strong>, в которых содержится обычный текст или исходный код на языке Python. Существует два режима работы с ноутбук-файлом:</p>

</div>
</div>
</div>
<div class="cell border-box-sizing text_cell rendered"><div class="prompt input_prompt">
</div>
<div class="inner_cell">
<div class="text_cell_render border-box-sizing rendered_html">
<ol>
<li><strong>Командный режим</strong> - текущая ячейка выделена серой рамкой с голубой левой гранью. На рисунке выше ноутбук-файл находится в этом режиме. В командном режиме осуществляется управление ячейками: создание новых, изменение положения существующих, удаление ненужных и т.д.</li>
<li><strong>Режим правки</strong> - текущая ячейка выделена зеленой рамкой с зеленой же левой гранью. В этом режиме осуществляется редактирование содержимого ячейки: ввод исходного кода или иной информации. Перейти в этот режим можно нажав клавишу <em>Enter</em> на нужной ячейке, вернуться обратно в командный режим можно нажав <em>Esc</em>. <img src="./images/03/cell-edit-mode.png" alt="Режим правки"></li>
</ol>

</div>
</div>
</div>
<div class="cell border-box-sizing text_cell rendered"><div class="prompt input_prompt">
</div>
<div class="inner_cell">
<div class="text_cell_render border-box-sizing rendered_html">
<p>Добавлять новые ячейки можно с помощью команд меню <em>Insert</em>, которые называются <em>Insert Cell Above</em> и <em>Insert Cell Below</em> или с помощью кнопки <img src="./images/03/cell-add-button.png" alt="Plus" style="display:inline;margin:auto"/> на панели инструментов.</p>

</div>
</div>
</div>
<div class="cell border-box-sizing text_cell rendered"><div class="prompt input_prompt">
</div>
<div class="inner_cell">
<div class="text_cell_render border-box-sizing rendered_html">
<p>В меню <em>Edit</em> содержатся команды для различных операций над ячейками:</p>

</div>
</div>
</div>
<div class="cell border-box-sizing text_cell rendered"><div class="prompt input_prompt">
</div>
<div class="inner_cell">
<div class="text_cell_render border-box-sizing rendered_html">
<ol>
<li>Cut/Copy/Paste для ячеек. Вместо них можно использовать кнопки <img src="./images/03/cell-clipboard-buttons.png" alt="Cut-Copy-Paste" style="display:inline;margin:auto"/> на панели инструментов.</li>
<li>Перемещение ячейки вверх или вниз (<em>Move Cell Up</em>, <em>Move Cell Down</em>) в списке. Для этого также могут использоваться кнопки <img src="./images/03/cell-move-buttons.png" alt="Up-Down-Arrow" style="display:inline;margin:auto"/> на панели инструментов.</li>
<li>Удаление ячеек (<em>Delete Сells</em>).</li>
<li>Слияние нескольких ячеек в одну и наоборот, разбиение одной большой ячейки на несколько меньших (<em>Merge Cell</em>, <em>Split cell</em>).</li>
</ol>

</div>
</div>
</div>
<div class="cell border-box-sizing text_cell rendered"><div class="prompt input_prompt">
</div>
<div class="inner_cell">
<div class="text_cell_render border-box-sizing rendered_html">
<p>В меню <em>View</em> содержатся команды, влияющие на внешний вид интерфейса для редактирования ноутбук-файла, например, скрывающие или показывающие панель инструментов.</p>

</div>
</div>
</div>
<div class="cell border-box-sizing text_cell rendered"><div class="prompt input_prompt">
</div>
<div class="inner_cell">
<div class="text_cell_render border-box-sizing rendered_html">
<p>В меню <em>Cell</em> содержатся команды для выполнения исходного кода в одной или сразу нескольких ячейках. Более подробно мы познакомимся с ними чуть позже.</p>

</div>
</div>
</div>
<div class="cell border-box-sizing text_cell rendered"><div class="prompt input_prompt">
</div>
<div class="inner_cell">
<div class="text_cell_render border-box-sizing rendered_html">
<p>В меню <em>Kernel</em> содержатся команды для управления ядром, связанным с данным ноутбук-файлом: его остановки, перезапуска и т.д. Наиболее полезна для нас команда <em>Interrupt</em> (кнопка <img src="./images/03/kernel-interrupt-button.png" alt="Stop" style="display:inline;margin:auto"/> на панели инструментов), которая заставляет ядро прекратить выполнение текущей программы - это может понадобиться, если ваша программа "зависла" и не может закончить работу. Прервав ее выполнение, вы сможете исправить ошибку и запустить ее повторно.</p>

</div>
</div>
</div>
<div class="cell border-box-sizing text_cell rendered"><div class="prompt input_prompt">
</div>
<div class="inner_cell">
<div class="text_cell_render border-box-sizing rendered_html">
<p>В заключение заметим, что большинство команд в среде разработки Jupyter Notebook можно выполнять используя быстрые комбинации клавиш. Например, если ноутбук-файл находится в командном режиме, то для добавления новой ячейки достаточно просто нажать на клавиатуре клавишу <em>B</em>. Полный список таких комбинаций можно посмотреть в разделе <em>Keyboard Shortcuts</em> меню <em>Help</em> или нажав кнопку <img src="./images/03/view-shortcuts-button.png" alt="Keyboard" style="display:inline;margin:auto"/> (обратите внимание, что комбинации представлены раздельно для командного режима и режима правки).</p>

</div>
</div>
</div>
<div class="cell border-box-sizing text_cell rendered"><div class="prompt input_prompt">
</div>
<div class="inner_cell">
<div class="text_cell_render border-box-sizing rendered_html">
<h2 id="&#1058;&#1080;&#1087;&#1099;-&#1103;&#1095;&#1077;&#1077;&#1082;">&#1058;&#1080;&#1087;&#1099; &#1103;&#1095;&#1077;&#1077;&#1082;<a class="anchor-link" href="#&#1058;&#1080;&#1087;&#1099;-&#1103;&#1095;&#1077;&#1077;&#1082;">&#182;</a></h2>
</div>
</div>
</div>
<div class="cell border-box-sizing text_cell rendered"><div class="prompt input_prompt">
</div>
<div class="inner_cell">
<div class="text_cell_render border-box-sizing rendered_html">
<p>Существует два основных типа ячеек в ноутбук-файле:</p>

</div>
</div>
</div>
<div class="cell border-box-sizing text_cell rendered"><div class="prompt input_prompt">
</div>
<div class="inner_cell">
<div class="text_cell_render border-box-sizing rendered_html">
<ol>
<li><strong>Code</strong> - ячейка с исходным кодом на языке Python. Эти ячейки обрабатываются интерпретатором Python, чтобы выполнить программу, написанную в них.</li>
<li><strong>Markdown</strong> - ячейка, содержащая любую информацию, не являющуюся исходным кодом: обычный текст, ссылки, математические формулы, изображения и другое. Эти ячейки не обрабатываются интерпретатором Python.</li>
</ol>

</div>
</div>
</div>
<div class="cell border-box-sizing text_cell rendered"><div class="prompt input_prompt">
</div>
<div class="inner_cell">
<div class="text_cell_render border-box-sizing rendered_html">
<p>Тип ячейки можно выбрать на панели инструментов в списке <img src="./images/03/cell-type-list.png" alt="Code" style="display:inline;margin:auto"/> или в разделе <em>Cell Type</em> меню <em>Cell</em>. По умолчанию все новые ячейки имеют тип Code.</p>

</div>
</div>
</div>
<div class="cell border-box-sizing text_cell rendered"><div class="prompt input_prompt">
</div>
<div class="inner_cell">
<div class="text_cell_render border-box-sizing rendered_html">
<h3 id="&#1071;&#1095;&#1077;&#1081;&#1082;&#1080;-Code">&#1071;&#1095;&#1077;&#1081;&#1082;&#1080; Code<a class="anchor-link" href="#&#1071;&#1095;&#1077;&#1081;&#1082;&#1080;-Code">&#182;</a></h3>
</div>
</div>
</div>
<div class="cell border-box-sizing text_cell rendered"><div class="prompt input_prompt">
</div>
<div class="inner_cell">
<div class="text_cell_render border-box-sizing rendered_html">
<p>Эти ячейки визуально отличаются от остальных наличием слева надписи <em>In [ ]</em>. Внутри квадратных скобок может быть:</p>

</div>
</div>
</div>
<div class="cell border-box-sizing text_cell rendered"><div class="prompt input_prompt">
</div>
<div class="inner_cell">
<div class="text_cell_render border-box-sizing rendered_html">
<ul>
<li>пустота - если ячейка еще ни разу не выполнялась</li>
<li>символ " * " - если ячейка выполняется в данный момент</li>
<li>число - если ячейка была выполнена, при этом число означает ее порядковый номер среди всех выполненных ячеек</li>
</ul>

</div>
</div>
</div>
<div class="cell border-box-sizing text_cell rendered"><div class="prompt input_prompt">
</div>
<div class="inner_cell">
<div class="text_cell_render border-box-sizing rendered_html">
<p>Давайте напишем нашу первую программу на языке Python, которая будет складывать числа 1 и 2. Для этого нужно просто ввести в ячейку с типом Code выражение <code>1 + 2</code>.</p>

</div>
</div>
</div>
<div class="cell border-box-sizing text_cell rendered"><div class="prompt input_prompt">
</div>
<div class="inner_cell">
<div class="text_cell_render border-box-sizing rendered_html">
<p>Следующим этапом должно стать выполнение нашей программы и получение результата ее работы. Для этого ячейку, в которую введен исходный код, нужно выполнить. Это можно сделать с помощью одной из команд <em>Run</em> меню <em>Cell</em> или нажав кнопку <img src="./images/03/cell-run-button.png" alt="Run" style="display:inline;margin:auto"/> на панели инструментов. При этом происходит следующее:</p>

</div>
</div>
</div>
<div class="cell border-box-sizing text_cell rendered"><div class="prompt input_prompt">
</div>
<div class="inner_cell">
<div class="text_cell_render border-box-sizing rendered_html">
<ol>
<li>интерфейс дает ядру команду выполнить ячейку</li>
<li>ядро "видит", что ячейка содержит исходный код Python и запускает интерпретатор</li>
<li>интерпретатор выполняет программу и возвращает результат ее работы ядру</li>
<li>ядро передает результат интерфейсу, чтобы отобразить его на экране</li>
</ol>

</div>
</div>
</div>
<div class="cell border-box-sizing text_cell rendered"><div class="prompt input_prompt">
</div>
<div class="inner_cell">
<div class="text_cell_render border-box-sizing rendered_html">
<p>В результате ваша ячейка примет такой вид:</p>

</div>
</div>
</div>
<div class="cell border-box-sizing code_cell rendered">
<div class="input">
<div class="prompt input_prompt">In&nbsp;[1]:</div>
<div class="inner_cell">
    <div class="input_area">
<div class=" highlight hl-ipython3"><pre><span></span><span class="mi">1</span> <span class="o">+</span> <span class="mi">2</span>
</pre></div>

</div>
</div>
</div>

<div class="output_wrapper">
<div class="output">


<div class="output_area">

<div class="prompt output_prompt">Out[1]:</div>




<div class="output_text output_subarea output_execute_result">
<pre>3</pre>
</div>

</div>

</div>
</div>

</div>
<div class="cell border-box-sizing text_cell rendered"><div class="prompt input_prompt">
</div>
<div class="inner_cell">
<div class="text_cell_render border-box-sizing rendered_html">
<p>Напомним, что программа должна соответствовать определенным правилам (лексическим и синтаксическим), чтобы быть выполненной интерпретатором. Если при вводе программы разработчик допускает некоторую ошибку, то при ее выполнении будет сгенерировано <strong>исключение</strong>. В Jupyter Notebook при этом выводится полная информация о нем, которая поможет устранить ошибку:</p>

</div>
</div>
</div>
<div class="cell border-box-sizing code_cell rendered">
<div class="input">
<div class="prompt input_prompt">In&nbsp;[2]:</div>
<div class="inner_cell">
    <div class="input_area">
<div class=" highlight hl-ipython3"><pre><span></span><span class="mi">1</span> <span class="o">+</span>
</pre></div>

</div>
</div>
</div>

<div class="output_wrapper">
<div class="output">


<div class="output_area">

<div class="prompt"></div>


<div class="output_subarea output_text output_error">
<pre><span class="ansi-cyan-intense-fg ansi-bold">  File </span><span class="ansi-green-intense-fg ansi-bold">&#34;&lt;ipython-input-2-953e01372b97&gt;&#34;</span><span class="ansi-cyan-intense-fg ansi-bold">, line </span><span class="ansi-green-intense-fg ansi-bold">1</span>
<span class="ansi-yellow-intense-fg ansi-bold">    1 +</span>
<span class="ansi-white-intense-fg ansi-bold">       ^</span>
<span class="ansi-red-intense-fg ansi-bold">SyntaxError</span><span class="ansi-red-intense-fg ansi-bold">:</span> invalid syntax
</pre>
</div>
</div>

</div>
</div>

</div>
<div class="cell border-box-sizing text_cell rendered"><div class="prompt input_prompt">
</div>
<div class="inner_cell">
<div class="text_cell_render border-box-sizing rendered_html">
<p>В примере выше мы "забыли" добавить второе слагаемое в выражение, поэтому при попытке выполнить эту программу было сгенерировано исключение <code>SyntaxError</code>. По его названию можно понять, что ошибка связана с некорректным синтаксисом программы. Кроме того, внимательно изучив информацию об ошибке, можно увидеть ее текстовое описание ("invalid syntax"), а также номер строки и позицию внутри нее, где она произошла. Более подробно с исключениями мы познакомимся в дальнейшем.</p>

</div>
</div>
</div>
<div class="cell border-box-sizing text_cell rendered"><div class="prompt input_prompt">
</div>
<div class="inner_cell">
<div class="text_cell_render border-box-sizing rendered_html">
<p>Упомянем еще о том, что в языке программирования Python можно размещать в исходном коде <strong>комментарии</strong> - произвольный текст, не обрабатываемый интерпретатором и как правило содержащий пояснения по работе программы. Комментарии нужны потому, что программа часто создается одними людьми, а сопровождается и модифицируется другими, которым потребуется разбираться в чужом исходном коде, и дополнительная информация о сложных или неочевидных моментах в нем придется очень кстати. Существует негласное правило о том, что комментарии в исходном коде должны быть на английском языке, однако в примерах в данном курсе мы в основном используем русский, чтобы проще было усваивать материал.</p>

</div>
</div>
</div>
<div class="cell border-box-sizing text_cell rendered"><div class="prompt input_prompt">
</div>
<div class="inner_cell">
<div class="text_cell_render border-box-sizing rendered_html">
<p>В языке Python однострочные комментарии создаются с помощью символа <em>#</em> - если этот символ встречается в строке исходного кода, то все, что следует после него и до конца строки считается комментарием. Если требуется создать комментарий, содержащий несколько строк, то перед первой строкой и после конечной нужно поставить три одинарных кавычки <em>'''</em>.</p>

</div>
</div>
</div>
<div class="cell border-box-sizing code_cell rendered">
<div class="input">
<div class="prompt input_prompt">In&nbsp;[3]:</div>
<div class="inner_cell">
    <div class="input_area">
<div class=" highlight hl-ipython3"><pre><span></span><span class="sd">&#39;&#39;&#39;</span>
<span class="sd">WARNING: This program is property of course developers</span>
<span class="sd">and protected by copyright law!</span>
<span class="sd">This is an example of multi-line comment and developers</span>
<span class="sd">sense of humour.</span>
<span class="sd">&#39;&#39;&#39;</span>

<span class="c1"># soon we will calculate sum of 1 and 2</span>

<span class="mi">1</span> <span class="o">+</span> <span class="mi">2</span> <span class="c1"># almost done..</span>

<span class="c1"># done</span>
</pre></div>

</div>
</div>
</div>

<div class="output_wrapper">
<div class="output">


<div class="output_area">

<div class="prompt output_prompt">Out[3]:</div>




<div class="output_text output_subarea output_execute_result">
<pre>3</pre>
</div>

</div>

</div>
</div>

</div>
<div class="cell border-box-sizing text_cell rendered"><div class="prompt input_prompt">
</div>
<div class="inner_cell">
<div class="text_cell_render border-box-sizing rendered_html">
<h3 id="&#1071;&#1095;&#1077;&#1081;&#1082;&#1080;-Markdown">&#1071;&#1095;&#1077;&#1081;&#1082;&#1080; Markdown<a class="anchor-link" href="#&#1071;&#1095;&#1077;&#1081;&#1082;&#1080;-Markdown">&#182;</a></h3>
</div>
</div>
</div>
<div class="cell border-box-sizing text_cell rendered"><div class="prompt input_prompt">
</div>
<div class="inner_cell">
<div class="text_cell_render border-box-sizing rendered_html">
<p>Markdown - это упрощенный язык разметки, с помощью которого в обычный текст можно вставлять информацию о том, как он должен быть отформатирован. Например, если какую-то часть текста заключить в символы " * ", то она будет выведена курсивом: *некоторый текст* будет преобразован в <em>некоторый текст</em>.</p>

</div>
</div>
</div>
<div class="cell border-box-sizing text_cell rendered"><div class="prompt input_prompt">
</div>
<div class="inner_cell">
<div class="text_cell_render border-box-sizing rendered_html">
<p>Чтобы применить форматирование, которое вы добавили в текст в ячейке Markdown, ее нужно выполнить тем же способом, что и ячейку Code. Естественно, что никакой интерепретатор при этом не вызывается (так как в ячейке Markdown не должен быть исходный код), вместо этого ячейка просто отображается с учетом вашего форматирования.</p>

</div>
</div>
</div>
<div class="cell border-box-sizing text_cell rendered"><div class="prompt input_prompt">
</div>
<div class="inner_cell">
<div class="text_cell_render border-box-sizing rendered_html">
<p>Поскольку среда разработки Jupyter Notebook ориентирована во многом на решение математических задач, было логично добавить в нее возможность легко вводить формулы в традиционной математической нотации. Это возможно благодаря наличию поддержки языка компьютерной верстки <a href="https://ru.wikipedia.org/wiki/LaTeX">LaTeX</a>, информацию о котором достаточно легко найти в интернете. Мы лишь приведем пример того, как выглядит формула плотности вероятности нормального распределения, записанная в нотации LaTeX до и после выполнения содержащей ее ячейки Markdown:</p>

</div>
</div>
</div>
<div class="cell border-box-sizing text_cell rendered"><div class="prompt input_prompt">
</div>
<div class="inner_cell">
<div class="text_cell_render border-box-sizing rendered_html">
<ul>
<li>до: \$\$f(x)=\frac{1}{\sigma\sqrt{2\pi}}\exp\left(-\frac{(x-\mu)^2}{2\sigma^2}\right)\$\$</li>
<li>после: $$f(x)=\frac{1}{\sigma\sqrt{2\pi}}\exp\left(-\frac{(x-\mu)^2}{2\sigma^2}\right)$$</li>
</ul>

</div>
</div>
</div>
<div class="cell border-box-sizing text_cell rendered"><div class="prompt input_prompt">
</div>
<div class="inner_cell">
<div class="text_cell_render border-box-sizing rendered_html">
<p>Мы не будем подробно рассматривать синтаксис языка разметки Markdown - всю необходимую информацию по нему легко можно получить в <a href="https://ru.wikipedia.org/wiki/Markdown">статье</a> на Википедии. Еще один хороший англоязычный ресурс по Markdown находится <a href="https://www.markdownguide.org/">тут</a>.</p>

</div>
</div>
</div>
<div class="cell border-box-sizing text_cell rendered"><div class="prompt input_prompt">
</div>
<div class="inner_cell">
<div class="text_cell_render border-box-sizing rendered_html">
<h2 id="&#1042;&#1086;&#1087;&#1088;&#1086;&#1089;&#1099;-&#1076;&#1083;&#1103;-&#1089;&#1072;&#1084;&#1086;&#1082;&#1086;&#1085;&#1090;&#1088;&#1086;&#1083;&#1103;">&#1042;&#1086;&#1087;&#1088;&#1086;&#1089;&#1099; &#1076;&#1083;&#1103; &#1089;&#1072;&#1084;&#1086;&#1082;&#1086;&#1085;&#1090;&#1088;&#1086;&#1083;&#1103;<a class="anchor-link" href="#&#1042;&#1086;&#1087;&#1088;&#1086;&#1089;&#1099;-&#1076;&#1083;&#1103;-&#1089;&#1072;&#1084;&#1086;&#1082;&#1086;&#1085;&#1090;&#1088;&#1086;&#1083;&#1103;">&#182;</a></h2>
</div>
</div>
</div>
<div class="cell border-box-sizing text_cell rendered"><div class="prompt input_prompt">
</div>
<div class="inner_cell">
<div class="text_cell_render border-box-sizing rendered_html">
<ol>
<li>Что называется ноутбуком в среде разработки Jupyter Notebook? Что может содержаться в нем?</li>
<li>Чем является IPython для среды разработки Jupyter Notebook? Какие функции он выполняет?</li>
<li>В каком режиме осуществляется ввод программы или текста в ячейку? Как при этом она выглядит?</li>
<li>Какой командой нужно воспользоваться, если ваша программа "зависла"?</li>
<li>Какие типы ячеек существуют в ноутбук-файлах? Чем они отличаются?</li>
<li>Что происходит, когда вы выполняете ячейку с исходным кодом?</li>
<li>Что такое Markdown?</li>
</ol>

</div>
</div>
</div>
<div class="cell border-box-sizing text_cell rendered"><div class="prompt input_prompt">
</div>
<div class="inner_cell">
<div class="text_cell_render border-box-sizing rendered_html">
<h2 id="&#1047;&#1072;&#1076;&#1072;&#1085;&#1080;&#1077;">&#1047;&#1072;&#1076;&#1072;&#1085;&#1080;&#1077;<a class="anchor-link" href="#&#1047;&#1072;&#1076;&#1072;&#1085;&#1080;&#1077;">&#182;</a></h2>
</div>
</div>
</div>
<div class="cell border-box-sizing text_cell rendered"><div class="prompt input_prompt">
</div>
<div class="inner_cell">
<div class="text_cell_render border-box-sizing rendered_html">
<ol>
<li>Создайте новый ноутбук-файл. Напишите в нем программу, высчитывающую любое сложное арифметическое выражение с операциями сложения/вычитания (" + " и " - ") и умножения/деления (" * " и " / "). Убедитесь в том, что операции умножения/деления имеют более высокий приоритет и выполняются перед операциями сложения/вычитания, как и принято в математике. Воспользуйтесь скобками " ( ) " для того, чтобы изменить порядок вычислений в вашем выражении и получить иной результат.</li>
</ol>

</div>
</div>
</div>
<div class="cell border-box-sizing text_cell rendered"><div class="prompt input_prompt">
</div>
<div class="inner_cell">
<div class="text_cell_render border-box-sizing rendered_html">
<hr>
<p><a href="02_Installing_Python.ipynb">Предыдущая: Установка Python</a> |
<a href="00_Overview.ipynb#Содержание">Содержание</a> |
<a href="04_Data_Types.ipynb">Следующая: Типы данных</a></p>

</div>
</div>
</div>
 


    </div>
  </div>

  </div>


  
    <footer class="footer hidden-print">
      <div class="container">
        <div class="col-md-4">
          <p>
            This website does not host notebooks, it only renders notebooks
            available on other websites.
          </p>
        </div>

        <div class="col-md-4">
          <p>
            Delivered by <a href="http://www.fastly.com/">Fastly</a>,
            Rendered by <a href="https://developer.rackspace.com/?nbviewer=awesome">Rackspace</a>
          </p>
          <p>
            nbviewer GitHub <a href="https://github.com/jupyter/nbviewer">repository</a>.
          </p>
        </div>

        <div class="col-md-4">
          
  
            
              <p>
                nbviewer version:
                <a href="https://github.com/jupyter/nbviewer/commit/38e181afeec4b7527a8a13ef7c3814e36045244c">
                  38e181a
                </a>
              </p>
            
          
  
  <p>
    nbconvert version: <a href="https://github.com/jupyter/nbconvert/releases/tag/5.3.1">
      5.3.1
    </a>
  </p>
  

          
  
  
  <p>
    Rendered
    <span class='date' data-date='Tue, 17 Apr 2018 03:02:47 UTC' title='Tue, 17 Apr 2018 03:02:47 UTC'>(Tue, 17 Apr 2018 03:02:47 UTC)</span>
  </p>
  

        </div>
      </div>
    </footer>
  

  <script src="/static/components/bootstrap/js/bootstrap.min.js?v=5869c96cc8f19086aee625d670d741f9"></script>
  <script src="/static/components/headroom.js/dist/headroom.min.js?v=b0a311ea668f8e768ea375f4a7abb81c"></script>
  <script src="/static/components/headroom.js/dist/jQuery.headroom.min.js?v=f3a1bae118315d0c234afc74dc6aab71"></script>

  
  
  <script>
    $(function(){ $("#menubar").headroom({
      tolerance: 5,
      offset: 205,
      classes: {
        initial: "animated",
        pinned: "slideInDown",
        unpinned: "slideOutUp"
      }
    })});
  </script>


  
  <script>
    (function(i,s,o,g,r,a,m){i['GoogleAnalyticsObject']=r;i[r]=i[r]||function(){
      (i[r].q=i[r].q||[]).push(arguments)},i[r].l=1*new Date();a=s.createElement(o),
      m=s.getElementsByTagName(o)[0];a.async=1;a.src=g;m.parentNode.insertBefore(a,m)
    })(window,document,'script','https://www.google-analytics.com/analytics.js','ga');
    ga('create', 'UA-52617120-5', 'auto',
       {'storage': 'none'});
    ga('set', 'anonymizeIp', true);
    ga('send', 'pageview');
  </script>
  
  <script>
    require({
        paths: {
          moment: "/static/components/moment/min/moment.min.js?v=89f87298ad94aa1e6b92f42eb66da043"
        }
      }, ["moment"], function(moment){
      var date = $("footer .date"),
        m = moment(new Date(date.data('date'))),
        update = function(){ date.text(m.fromNow()); };
      setInterval(update, 61*1000);
      update();
      var w = $(window).scroll(function(event){
        $("body").toggleClass("scrolled", w.scrollTop() > 0);
      });
    });
  </script>

  <!--NEW RELIC Stop Perf Measurement-->
  
  <!--NEW RELIC End-->
</body>
</html>